{
  "nbformat": 4,
  "nbformat_minor": 0,
  "metadata": {
    "colab": {
      "provenance": [],
      "collapsed_sections": [
        "XsqM6UbIIJm6",
        "QjoHLYXILDCF",
        "n4V6egQhgNHH",
        "Q4i31zuqwHBu"
      ]
    },
    "kernelspec": {
      "name": "python3",
      "display_name": "Python 3"
    },
    "language_info": {
      "name": "python"
    }
  },
  "cells": [
    {
      "cell_type": "markdown",
      "source": [
        "# **ECS766P – Data Mining – Assignment 1 - Puneet Pal – 240739874**\n",
        "\n",
        "---\n",
        "\n"
      ],
      "metadata": {
        "id": "n9dGkonFITOX"
      }
    },
    {
      "cell_type": "markdown",
      "source": [
        "## Question 1\n",
        ">\n",
        "**1) The function “load_wine” from “sklearn.datasets” can be used to load the wine dataset into a “DataFrame” by using the below commands:**"
      ],
      "metadata": {
        "id": "Afbpo6rxH6MF"
      }
    },
    {
      "cell_type": "code",
      "source": [
        "#data = load_wine()\n",
        "#df = pd.DataFrame(data.data, columns=data.feature_names)\n",
        "#df['target'] = pd.Series(data.target)"
      ],
      "metadata": {
        "id": "AlEm5ZzxIF5U"
      },
      "execution_count": null,
      "outputs": []
    },
    {
      "cell_type": "markdown",
      "source": [
        "### **a) Load the wine dataset. Which feature is categorical and why? Compute the frequency (not the occurrence) of each value of the categorical feature. Include the code in your report.**\n",
        "\n",
        "---\n",
        "\n"
      ],
      "metadata": {
        "id": "XsqM6UbIIJm6"
      }
    },
    {
      "cell_type": "markdown",
      "source": [
        "\n",
        "*   For loading the wine dataset, I will use the commands given in the question itself along with required libraries import."
      ],
      "metadata": {
        "id": "bO6yy19QKU-3"
      }
    },
    {
      "cell_type": "code",
      "execution_count": null,
      "metadata": {
        "id": "cgFvSM4nq49l"
      },
      "outputs": [],
      "source": [
        "#Including required python libraries\n",
        "from sklearn.datasets import load_wine\n",
        "import pandas as pd\n",
        "import numpy as np\n",
        "\n",
        "#Loading wine dataset\n",
        "data = load_wine()\n",
        "\n",
        "#Creating the Dataframe\n",
        "df = pd.DataFrame(data.data, columns=data.feature_names)\n",
        "df['target'] = pd.Series(data.target)\n"
      ]
    },
    {
      "cell_type": "markdown",
      "source": [
        "\n",
        "\n",
        "*   To understand which feature is categorical I will use the info() function to learn better on the data types of features.\n",
        "\n"
      ],
      "metadata": {
        "id": "sNVgjWeXKk5L"
      }
    },
    {
      "cell_type": "code",
      "source": [
        "#Checking dataset info for identifying the categorical feature\n",
        "df.info()"
      ],
      "metadata": {
        "colab": {
          "base_uri": "https://localhost:8080/"
        },
        "id": "OT3pxuONJSlF",
        "outputId": "8cf50e91-418e-4ce5-a9d9-e8da74d8d5ec"
      },
      "execution_count": null,
      "outputs": [
        {
          "output_type": "stream",
          "name": "stdout",
          "text": [
            "<class 'pandas.core.frame.DataFrame'>\n",
            "RangeIndex: 178 entries, 0 to 177\n",
            "Data columns (total 14 columns):\n",
            " #   Column                        Non-Null Count  Dtype  \n",
            "---  ------                        --------------  -----  \n",
            " 0   alcohol                       178 non-null    float64\n",
            " 1   malic_acid                    178 non-null    float64\n",
            " 2   ash                           178 non-null    float64\n",
            " 3   alcalinity_of_ash             178 non-null    float64\n",
            " 4   magnesium                     178 non-null    float64\n",
            " 5   total_phenols                 178 non-null    float64\n",
            " 6   flavanoids                    178 non-null    float64\n",
            " 7   nonflavanoid_phenols          178 non-null    float64\n",
            " 8   proanthocyanins               178 non-null    float64\n",
            " 9   color_intensity               178 non-null    float64\n",
            " 10  hue                           178 non-null    float64\n",
            " 11  od280/od315_of_diluted_wines  178 non-null    float64\n",
            " 12  proline                       178 non-null    float64\n",
            " 13  target                        178 non-null    int64  \n",
            "dtypes: float64(13), int64(1)\n",
            "memory usage: 19.6 KB\n"
          ]
        }
      ]
    },
    {
      "cell_type": "markdown",
      "source": [
        "\n",
        "\n",
        "*   As per the output from info() function 12 features are of float64 type and 1 feature (target) is of int64 type, which gives a slight idea that ‘target’ feature with int64 type can be categorical. To learn more I will inspect with the sample of dataset using head(), tail() and describe() function.\n",
        "\n"
      ],
      "metadata": {
        "id": "uJ0Mc1MxKueL"
      }
    },
    {
      "cell_type": "code",
      "source": [
        "#Checking sample data from dataset\n",
        "df.head()"
      ],
      "metadata": {
        "colab": {
          "base_uri": "https://localhost:8080/",
          "height": 226
        },
        "id": "jVjUJigoJVkS",
        "outputId": "7aa07500-c321-453d-c219-ce957a6e83e5"
      },
      "execution_count": null,
      "outputs": [
        {
          "output_type": "execute_result",
          "data": {
            "text/plain": [
              "   alcohol  malic_acid   ash  alcalinity_of_ash  magnesium  total_phenols  \\\n",
              "0    14.23        1.71  2.43               15.6      127.0           2.80   \n",
              "1    13.20        1.78  2.14               11.2      100.0           2.65   \n",
              "2    13.16        2.36  2.67               18.6      101.0           2.80   \n",
              "3    14.37        1.95  2.50               16.8      113.0           3.85   \n",
              "4    13.24        2.59  2.87               21.0      118.0           2.80   \n",
              "\n",
              "   flavanoids  nonflavanoid_phenols  proanthocyanins  color_intensity   hue  \\\n",
              "0        3.06                  0.28             2.29             5.64  1.04   \n",
              "1        2.76                  0.26             1.28             4.38  1.05   \n",
              "2        3.24                  0.30             2.81             5.68  1.03   \n",
              "3        3.49                  0.24             2.18             7.80  0.86   \n",
              "4        2.69                  0.39             1.82             4.32  1.04   \n",
              "\n",
              "   od280/od315_of_diluted_wines  proline  target  \n",
              "0                          3.92   1065.0       0  \n",
              "1                          3.40   1050.0       0  \n",
              "2                          3.17   1185.0       0  \n",
              "3                          3.45   1480.0       0  \n",
              "4                          2.93    735.0       0  "
            ],
            "text/html": [
              "\n",
              "  <div id=\"df-c7117f85-b236-4aed-93f6-c1cae149c81a\" class=\"colab-df-container\">\n",
              "    <div>\n",
              "<style scoped>\n",
              "    .dataframe tbody tr th:only-of-type {\n",
              "        vertical-align: middle;\n",
              "    }\n",
              "\n",
              "    .dataframe tbody tr th {\n",
              "        vertical-align: top;\n",
              "    }\n",
              "\n",
              "    .dataframe thead th {\n",
              "        text-align: right;\n",
              "    }\n",
              "</style>\n",
              "<table border=\"1\" class=\"dataframe\">\n",
              "  <thead>\n",
              "    <tr style=\"text-align: right;\">\n",
              "      <th></th>\n",
              "      <th>alcohol</th>\n",
              "      <th>malic_acid</th>\n",
              "      <th>ash</th>\n",
              "      <th>alcalinity_of_ash</th>\n",
              "      <th>magnesium</th>\n",
              "      <th>total_phenols</th>\n",
              "      <th>flavanoids</th>\n",
              "      <th>nonflavanoid_phenols</th>\n",
              "      <th>proanthocyanins</th>\n",
              "      <th>color_intensity</th>\n",
              "      <th>hue</th>\n",
              "      <th>od280/od315_of_diluted_wines</th>\n",
              "      <th>proline</th>\n",
              "      <th>target</th>\n",
              "    </tr>\n",
              "  </thead>\n",
              "  <tbody>\n",
              "    <tr>\n",
              "      <th>0</th>\n",
              "      <td>14.23</td>\n",
              "      <td>1.71</td>\n",
              "      <td>2.43</td>\n",
              "      <td>15.6</td>\n",
              "      <td>127.0</td>\n",
              "      <td>2.80</td>\n",
              "      <td>3.06</td>\n",
              "      <td>0.28</td>\n",
              "      <td>2.29</td>\n",
              "      <td>5.64</td>\n",
              "      <td>1.04</td>\n",
              "      <td>3.92</td>\n",
              "      <td>1065.0</td>\n",
              "      <td>0</td>\n",
              "    </tr>\n",
              "    <tr>\n",
              "      <th>1</th>\n",
              "      <td>13.20</td>\n",
              "      <td>1.78</td>\n",
              "      <td>2.14</td>\n",
              "      <td>11.2</td>\n",
              "      <td>100.0</td>\n",
              "      <td>2.65</td>\n",
              "      <td>2.76</td>\n",
              "      <td>0.26</td>\n",
              "      <td>1.28</td>\n",
              "      <td>4.38</td>\n",
              "      <td>1.05</td>\n",
              "      <td>3.40</td>\n",
              "      <td>1050.0</td>\n",
              "      <td>0</td>\n",
              "    </tr>\n",
              "    <tr>\n",
              "      <th>2</th>\n",
              "      <td>13.16</td>\n",
              "      <td>2.36</td>\n",
              "      <td>2.67</td>\n",
              "      <td>18.6</td>\n",
              "      <td>101.0</td>\n",
              "      <td>2.80</td>\n",
              "      <td>3.24</td>\n",
              "      <td>0.30</td>\n",
              "      <td>2.81</td>\n",
              "      <td>5.68</td>\n",
              "      <td>1.03</td>\n",
              "      <td>3.17</td>\n",
              "      <td>1185.0</td>\n",
              "      <td>0</td>\n",
              "    </tr>\n",
              "    <tr>\n",
              "      <th>3</th>\n",
              "      <td>14.37</td>\n",
              "      <td>1.95</td>\n",
              "      <td>2.50</td>\n",
              "      <td>16.8</td>\n",
              "      <td>113.0</td>\n",
              "      <td>3.85</td>\n",
              "      <td>3.49</td>\n",
              "      <td>0.24</td>\n",
              "      <td>2.18</td>\n",
              "      <td>7.80</td>\n",
              "      <td>0.86</td>\n",
              "      <td>3.45</td>\n",
              "      <td>1480.0</td>\n",
              "      <td>0</td>\n",
              "    </tr>\n",
              "    <tr>\n",
              "      <th>4</th>\n",
              "      <td>13.24</td>\n",
              "      <td>2.59</td>\n",
              "      <td>2.87</td>\n",
              "      <td>21.0</td>\n",
              "      <td>118.0</td>\n",
              "      <td>2.80</td>\n",
              "      <td>2.69</td>\n",
              "      <td>0.39</td>\n",
              "      <td>1.82</td>\n",
              "      <td>4.32</td>\n",
              "      <td>1.04</td>\n",
              "      <td>2.93</td>\n",
              "      <td>735.0</td>\n",
              "      <td>0</td>\n",
              "    </tr>\n",
              "  </tbody>\n",
              "</table>\n",
              "</div>\n",
              "    <div class=\"colab-df-buttons\">\n",
              "\n",
              "  <div class=\"colab-df-container\">\n",
              "    <button class=\"colab-df-convert\" onclick=\"convertToInteractive('df-c7117f85-b236-4aed-93f6-c1cae149c81a')\"\n",
              "            title=\"Convert this dataframe to an interactive table.\"\n",
              "            style=\"display:none;\">\n",
              "\n",
              "  <svg xmlns=\"http://www.w3.org/2000/svg\" height=\"24px\" viewBox=\"0 -960 960 960\">\n",
              "    <path d=\"M120-120v-720h720v720H120Zm60-500h600v-160H180v160Zm220 220h160v-160H400v160Zm0 220h160v-160H400v160ZM180-400h160v-160H180v160Zm440 0h160v-160H620v160ZM180-180h160v-160H180v160Zm440 0h160v-160H620v160Z\"/>\n",
              "  </svg>\n",
              "    </button>\n",
              "\n",
              "  <style>\n",
              "    .colab-df-container {\n",
              "      display:flex;\n",
              "      gap: 12px;\n",
              "    }\n",
              "\n",
              "    .colab-df-convert {\n",
              "      background-color: #E8F0FE;\n",
              "      border: none;\n",
              "      border-radius: 50%;\n",
              "      cursor: pointer;\n",
              "      display: none;\n",
              "      fill: #1967D2;\n",
              "      height: 32px;\n",
              "      padding: 0 0 0 0;\n",
              "      width: 32px;\n",
              "    }\n",
              "\n",
              "    .colab-df-convert:hover {\n",
              "      background-color: #E2EBFA;\n",
              "      box-shadow: 0px 1px 2px rgba(60, 64, 67, 0.3), 0px 1px 3px 1px rgba(60, 64, 67, 0.15);\n",
              "      fill: #174EA6;\n",
              "    }\n",
              "\n",
              "    .colab-df-buttons div {\n",
              "      margin-bottom: 4px;\n",
              "    }\n",
              "\n",
              "    [theme=dark] .colab-df-convert {\n",
              "      background-color: #3B4455;\n",
              "      fill: #D2E3FC;\n",
              "    }\n",
              "\n",
              "    [theme=dark] .colab-df-convert:hover {\n",
              "      background-color: #434B5C;\n",
              "      box-shadow: 0px 1px 3px 1px rgba(0, 0, 0, 0.15);\n",
              "      filter: drop-shadow(0px 1px 2px rgba(0, 0, 0, 0.3));\n",
              "      fill: #FFFFFF;\n",
              "    }\n",
              "  </style>\n",
              "\n",
              "    <script>\n",
              "      const buttonEl =\n",
              "        document.querySelector('#df-c7117f85-b236-4aed-93f6-c1cae149c81a button.colab-df-convert');\n",
              "      buttonEl.style.display =\n",
              "        google.colab.kernel.accessAllowed ? 'block' : 'none';\n",
              "\n",
              "      async function convertToInteractive(key) {\n",
              "        const element = document.querySelector('#df-c7117f85-b236-4aed-93f6-c1cae149c81a');\n",
              "        const dataTable =\n",
              "          await google.colab.kernel.invokeFunction('convertToInteractive',\n",
              "                                                    [key], {});\n",
              "        if (!dataTable) return;\n",
              "\n",
              "        const docLinkHtml = 'Like what you see? Visit the ' +\n",
              "          '<a target=\"_blank\" href=https://colab.research.google.com/notebooks/data_table.ipynb>data table notebook</a>'\n",
              "          + ' to learn more about interactive tables.';\n",
              "        element.innerHTML = '';\n",
              "        dataTable['output_type'] = 'display_data';\n",
              "        await google.colab.output.renderOutput(dataTable, element);\n",
              "        const docLink = document.createElement('div');\n",
              "        docLink.innerHTML = docLinkHtml;\n",
              "        element.appendChild(docLink);\n",
              "      }\n",
              "    </script>\n",
              "  </div>\n",
              "\n",
              "\n",
              "<div id=\"df-b8c8e5da-5fce-43d3-80f4-3cc9367f7b95\">\n",
              "  <button class=\"colab-df-quickchart\" onclick=\"quickchart('df-b8c8e5da-5fce-43d3-80f4-3cc9367f7b95')\"\n",
              "            title=\"Suggest charts\"\n",
              "            style=\"display:none;\">\n",
              "\n",
              "<svg xmlns=\"http://www.w3.org/2000/svg\" height=\"24px\"viewBox=\"0 0 24 24\"\n",
              "     width=\"24px\">\n",
              "    <g>\n",
              "        <path d=\"M19 3H5c-1.1 0-2 .9-2 2v14c0 1.1.9 2 2 2h14c1.1 0 2-.9 2-2V5c0-1.1-.9-2-2-2zM9 17H7v-7h2v7zm4 0h-2V7h2v10zm4 0h-2v-4h2v4z\"/>\n",
              "    </g>\n",
              "</svg>\n",
              "  </button>\n",
              "\n",
              "<style>\n",
              "  .colab-df-quickchart {\n",
              "      --bg-color: #E8F0FE;\n",
              "      --fill-color: #1967D2;\n",
              "      --hover-bg-color: #E2EBFA;\n",
              "      --hover-fill-color: #174EA6;\n",
              "      --disabled-fill-color: #AAA;\n",
              "      --disabled-bg-color: #DDD;\n",
              "  }\n",
              "\n",
              "  [theme=dark] .colab-df-quickchart {\n",
              "      --bg-color: #3B4455;\n",
              "      --fill-color: #D2E3FC;\n",
              "      --hover-bg-color: #434B5C;\n",
              "      --hover-fill-color: #FFFFFF;\n",
              "      --disabled-bg-color: #3B4455;\n",
              "      --disabled-fill-color: #666;\n",
              "  }\n",
              "\n",
              "  .colab-df-quickchart {\n",
              "    background-color: var(--bg-color);\n",
              "    border: none;\n",
              "    border-radius: 50%;\n",
              "    cursor: pointer;\n",
              "    display: none;\n",
              "    fill: var(--fill-color);\n",
              "    height: 32px;\n",
              "    padding: 0;\n",
              "    width: 32px;\n",
              "  }\n",
              "\n",
              "  .colab-df-quickchart:hover {\n",
              "    background-color: var(--hover-bg-color);\n",
              "    box-shadow: 0 1px 2px rgba(60, 64, 67, 0.3), 0 1px 3px 1px rgba(60, 64, 67, 0.15);\n",
              "    fill: var(--button-hover-fill-color);\n",
              "  }\n",
              "\n",
              "  .colab-df-quickchart-complete:disabled,\n",
              "  .colab-df-quickchart-complete:disabled:hover {\n",
              "    background-color: var(--disabled-bg-color);\n",
              "    fill: var(--disabled-fill-color);\n",
              "    box-shadow: none;\n",
              "  }\n",
              "\n",
              "  .colab-df-spinner {\n",
              "    border: 2px solid var(--fill-color);\n",
              "    border-color: transparent;\n",
              "    border-bottom-color: var(--fill-color);\n",
              "    animation:\n",
              "      spin 1s steps(1) infinite;\n",
              "  }\n",
              "\n",
              "  @keyframes spin {\n",
              "    0% {\n",
              "      border-color: transparent;\n",
              "      border-bottom-color: var(--fill-color);\n",
              "      border-left-color: var(--fill-color);\n",
              "    }\n",
              "    20% {\n",
              "      border-color: transparent;\n",
              "      border-left-color: var(--fill-color);\n",
              "      border-top-color: var(--fill-color);\n",
              "    }\n",
              "    30% {\n",
              "      border-color: transparent;\n",
              "      border-left-color: var(--fill-color);\n",
              "      border-top-color: var(--fill-color);\n",
              "      border-right-color: var(--fill-color);\n",
              "    }\n",
              "    40% {\n",
              "      border-color: transparent;\n",
              "      border-right-color: var(--fill-color);\n",
              "      border-top-color: var(--fill-color);\n",
              "    }\n",
              "    60% {\n",
              "      border-color: transparent;\n",
              "      border-right-color: var(--fill-color);\n",
              "    }\n",
              "    80% {\n",
              "      border-color: transparent;\n",
              "      border-right-color: var(--fill-color);\n",
              "      border-bottom-color: var(--fill-color);\n",
              "    }\n",
              "    90% {\n",
              "      border-color: transparent;\n",
              "      border-bottom-color: var(--fill-color);\n",
              "    }\n",
              "  }\n",
              "</style>\n",
              "\n",
              "  <script>\n",
              "    async function quickchart(key) {\n",
              "      const quickchartButtonEl =\n",
              "        document.querySelector('#' + key + ' button');\n",
              "      quickchartButtonEl.disabled = true;  // To prevent multiple clicks.\n",
              "      quickchartButtonEl.classList.add('colab-df-spinner');\n",
              "      try {\n",
              "        const charts = await google.colab.kernel.invokeFunction(\n",
              "            'suggestCharts', [key], {});\n",
              "      } catch (error) {\n",
              "        console.error('Error during call to suggestCharts:', error);\n",
              "      }\n",
              "      quickchartButtonEl.classList.remove('colab-df-spinner');\n",
              "      quickchartButtonEl.classList.add('colab-df-quickchart-complete');\n",
              "    }\n",
              "    (() => {\n",
              "      let quickchartButtonEl =\n",
              "        document.querySelector('#df-b8c8e5da-5fce-43d3-80f4-3cc9367f7b95 button');\n",
              "      quickchartButtonEl.style.display =\n",
              "        google.colab.kernel.accessAllowed ? 'block' : 'none';\n",
              "    })();\n",
              "  </script>\n",
              "</div>\n",
              "\n",
              "    </div>\n",
              "  </div>\n"
            ],
            "application/vnd.google.colaboratory.intrinsic+json": {
              "type": "dataframe",
              "variable_name": "df",
              "summary": "{\n  \"name\": \"df\",\n  \"rows\": 178,\n  \"fields\": [\n    {\n      \"column\": \"alcohol\",\n      \"properties\": {\n        \"dtype\": \"number\",\n        \"std\": 0.8118265380058577,\n        \"min\": 11.03,\n        \"max\": 14.83,\n        \"num_unique_values\": 126,\n        \"samples\": [\n          11.62,\n          13.64,\n          13.69\n        ],\n        \"semantic_type\": \"\",\n        \"description\": \"\"\n      }\n    },\n    {\n      \"column\": \"malic_acid\",\n      \"properties\": {\n        \"dtype\": \"number\",\n        \"std\": 1.1171460976144627,\n        \"min\": 0.74,\n        \"max\": 5.8,\n        \"num_unique_values\": 133,\n        \"samples\": [\n          1.21,\n          2.83,\n          1.8\n        ],\n        \"semantic_type\": \"\",\n        \"description\": \"\"\n      }\n    },\n    {\n      \"column\": \"ash\",\n      \"properties\": {\n        \"dtype\": \"number\",\n        \"std\": 0.2743440090608148,\n        \"min\": 1.36,\n        \"max\": 3.23,\n        \"num_unique_values\": 79,\n        \"samples\": [\n          2.31,\n          2.43,\n          2.52\n        ],\n        \"semantic_type\": \"\",\n        \"description\": \"\"\n      }\n    },\n    {\n      \"column\": \"alcalinity_of_ash\",\n      \"properties\": {\n        \"dtype\": \"number\",\n        \"std\": 3.3395637671735052,\n        \"min\": 10.6,\n        \"max\": 30.0,\n        \"num_unique_values\": 63,\n        \"samples\": [\n          25.5,\n          28.5,\n          15.6\n        ],\n        \"semantic_type\": \"\",\n        \"description\": \"\"\n      }\n    },\n    {\n      \"column\": \"magnesium\",\n      \"properties\": {\n        \"dtype\": \"number\",\n        \"std\": 14.282483515295668,\n        \"min\": 70.0,\n        \"max\": 162.0,\n        \"num_unique_values\": 53,\n        \"samples\": [\n          126.0,\n          85.0,\n          162.0\n        ],\n        \"semantic_type\": \"\",\n        \"description\": \"\"\n      }\n    },\n    {\n      \"column\": \"total_phenols\",\n      \"properties\": {\n        \"dtype\": \"number\",\n        \"std\": 0.6258510488339891,\n        \"min\": 0.98,\n        \"max\": 3.88,\n        \"num_unique_values\": 97,\n        \"samples\": [\n          1.68,\n          2.11,\n          1.35\n        ],\n        \"semantic_type\": \"\",\n        \"description\": \"\"\n      }\n    },\n    {\n      \"column\": \"flavanoids\",\n      \"properties\": {\n        \"dtype\": \"number\",\n        \"std\": 0.9988586850169465,\n        \"min\": 0.34,\n        \"max\": 5.08,\n        \"num_unique_values\": 132,\n        \"samples\": [\n          3.18,\n          2.5,\n          3.17\n        ],\n        \"semantic_type\": \"\",\n        \"description\": \"\"\n      }\n    },\n    {\n      \"column\": \"nonflavanoid_phenols\",\n      \"properties\": {\n        \"dtype\": \"number\",\n        \"std\": 0.12445334029667939,\n        \"min\": 0.13,\n        \"max\": 0.66,\n        \"num_unique_values\": 39,\n        \"samples\": [\n          0.58,\n          0.41,\n          0.39\n        ],\n        \"semantic_type\": \"\",\n        \"description\": \"\"\n      }\n    },\n    {\n      \"column\": \"proanthocyanins\",\n      \"properties\": {\n        \"dtype\": \"number\",\n        \"std\": 0.5723588626747611,\n        \"min\": 0.41,\n        \"max\": 3.58,\n        \"num_unique_values\": 101,\n        \"samples\": [\n          0.75,\n          1.77,\n          1.42\n        ],\n        \"semantic_type\": \"\",\n        \"description\": \"\"\n      }\n    },\n    {\n      \"column\": \"color_intensity\",\n      \"properties\": {\n        \"dtype\": \"number\",\n        \"std\": 2.318285871822413,\n        \"min\": 1.28,\n        \"max\": 13.0,\n        \"num_unique_values\": 132,\n        \"samples\": [\n          2.95,\n          3.3,\n          5.1\n        ],\n        \"semantic_type\": \"\",\n        \"description\": \"\"\n      }\n    },\n    {\n      \"column\": \"hue\",\n      \"properties\": {\n        \"dtype\": \"number\",\n        \"std\": 0.22857156582982338,\n        \"min\": 0.48,\n        \"max\": 1.71,\n        \"num_unique_values\": 78,\n        \"samples\": [\n          1.22,\n          1.04,\n          1.45\n        ],\n        \"semantic_type\": \"\",\n        \"description\": \"\"\n      }\n    },\n    {\n      \"column\": \"od280/od315_of_diluted_wines\",\n      \"properties\": {\n        \"dtype\": \"number\",\n        \"std\": 0.7099904287650505,\n        \"min\": 1.27,\n        \"max\": 4.0,\n        \"num_unique_values\": 122,\n        \"samples\": [\n          4.0,\n          1.82,\n          1.59\n        ],\n        \"semantic_type\": \"\",\n        \"description\": \"\"\n      }\n    },\n    {\n      \"column\": \"proline\",\n      \"properties\": {\n        \"dtype\": \"number\",\n        \"std\": 314.9074742768489,\n        \"min\": 278.0,\n        \"max\": 1680.0,\n        \"num_unique_values\": 121,\n        \"samples\": [\n          1375.0,\n          1270.0,\n          735.0\n        ],\n        \"semantic_type\": \"\",\n        \"description\": \"\"\n      }\n    },\n    {\n      \"column\": \"target\",\n      \"properties\": {\n        \"dtype\": \"number\",\n        \"std\": 0,\n        \"min\": 0,\n        \"max\": 2,\n        \"num_unique_values\": 3,\n        \"samples\": [\n          0,\n          1,\n          2\n        ],\n        \"semantic_type\": \"\",\n        \"description\": \"\"\n      }\n    }\n  ]\n}"
            }
          },
          "metadata": {},
          "execution_count": 4
        }
      ]
    },
    {
      "cell_type": "code",
      "source": [
        "#Checking sample data from dataset\n",
        "df.tail()"
      ],
      "metadata": {
        "colab": {
          "base_uri": "https://localhost:8080/",
          "height": 226
        },
        "id": "-A7KKjKGJX1x",
        "outputId": "214c3aba-3a16-4a18-ddf2-72fbcf7e8f10"
      },
      "execution_count": null,
      "outputs": [
        {
          "output_type": "execute_result",
          "data": {
            "text/plain": [
              "     alcohol  malic_acid   ash  alcalinity_of_ash  magnesium  total_phenols  \\\n",
              "173    13.71        5.65  2.45               20.5       95.0           1.68   \n",
              "174    13.40        3.91  2.48               23.0      102.0           1.80   \n",
              "175    13.27        4.28  2.26               20.0      120.0           1.59   \n",
              "176    13.17        2.59  2.37               20.0      120.0           1.65   \n",
              "177    14.13        4.10  2.74               24.5       96.0           2.05   \n",
              "\n",
              "     flavanoids  nonflavanoid_phenols  proanthocyanins  color_intensity   hue  \\\n",
              "173        0.61                  0.52             1.06              7.7  0.64   \n",
              "174        0.75                  0.43             1.41              7.3  0.70   \n",
              "175        0.69                  0.43             1.35             10.2  0.59   \n",
              "176        0.68                  0.53             1.46              9.3  0.60   \n",
              "177        0.76                  0.56             1.35              9.2  0.61   \n",
              "\n",
              "     od280/od315_of_diluted_wines  proline  target  \n",
              "173                          1.74    740.0       2  \n",
              "174                          1.56    750.0       2  \n",
              "175                          1.56    835.0       2  \n",
              "176                          1.62    840.0       2  \n",
              "177                          1.60    560.0       2  "
            ],
            "text/html": [
              "\n",
              "  <div id=\"df-ed4ffcce-c3c8-4dd4-b800-ac32697fb0c0\" class=\"colab-df-container\">\n",
              "    <div>\n",
              "<style scoped>\n",
              "    .dataframe tbody tr th:only-of-type {\n",
              "        vertical-align: middle;\n",
              "    }\n",
              "\n",
              "    .dataframe tbody tr th {\n",
              "        vertical-align: top;\n",
              "    }\n",
              "\n",
              "    .dataframe thead th {\n",
              "        text-align: right;\n",
              "    }\n",
              "</style>\n",
              "<table border=\"1\" class=\"dataframe\">\n",
              "  <thead>\n",
              "    <tr style=\"text-align: right;\">\n",
              "      <th></th>\n",
              "      <th>alcohol</th>\n",
              "      <th>malic_acid</th>\n",
              "      <th>ash</th>\n",
              "      <th>alcalinity_of_ash</th>\n",
              "      <th>magnesium</th>\n",
              "      <th>total_phenols</th>\n",
              "      <th>flavanoids</th>\n",
              "      <th>nonflavanoid_phenols</th>\n",
              "      <th>proanthocyanins</th>\n",
              "      <th>color_intensity</th>\n",
              "      <th>hue</th>\n",
              "      <th>od280/od315_of_diluted_wines</th>\n",
              "      <th>proline</th>\n",
              "      <th>target</th>\n",
              "    </tr>\n",
              "  </thead>\n",
              "  <tbody>\n",
              "    <tr>\n",
              "      <th>173</th>\n",
              "      <td>13.71</td>\n",
              "      <td>5.65</td>\n",
              "      <td>2.45</td>\n",
              "      <td>20.5</td>\n",
              "      <td>95.0</td>\n",
              "      <td>1.68</td>\n",
              "      <td>0.61</td>\n",
              "      <td>0.52</td>\n",
              "      <td>1.06</td>\n",
              "      <td>7.7</td>\n",
              "      <td>0.64</td>\n",
              "      <td>1.74</td>\n",
              "      <td>740.0</td>\n",
              "      <td>2</td>\n",
              "    </tr>\n",
              "    <tr>\n",
              "      <th>174</th>\n",
              "      <td>13.40</td>\n",
              "      <td>3.91</td>\n",
              "      <td>2.48</td>\n",
              "      <td>23.0</td>\n",
              "      <td>102.0</td>\n",
              "      <td>1.80</td>\n",
              "      <td>0.75</td>\n",
              "      <td>0.43</td>\n",
              "      <td>1.41</td>\n",
              "      <td>7.3</td>\n",
              "      <td>0.70</td>\n",
              "      <td>1.56</td>\n",
              "      <td>750.0</td>\n",
              "      <td>2</td>\n",
              "    </tr>\n",
              "    <tr>\n",
              "      <th>175</th>\n",
              "      <td>13.27</td>\n",
              "      <td>4.28</td>\n",
              "      <td>2.26</td>\n",
              "      <td>20.0</td>\n",
              "      <td>120.0</td>\n",
              "      <td>1.59</td>\n",
              "      <td>0.69</td>\n",
              "      <td>0.43</td>\n",
              "      <td>1.35</td>\n",
              "      <td>10.2</td>\n",
              "      <td>0.59</td>\n",
              "      <td>1.56</td>\n",
              "      <td>835.0</td>\n",
              "      <td>2</td>\n",
              "    </tr>\n",
              "    <tr>\n",
              "      <th>176</th>\n",
              "      <td>13.17</td>\n",
              "      <td>2.59</td>\n",
              "      <td>2.37</td>\n",
              "      <td>20.0</td>\n",
              "      <td>120.0</td>\n",
              "      <td>1.65</td>\n",
              "      <td>0.68</td>\n",
              "      <td>0.53</td>\n",
              "      <td>1.46</td>\n",
              "      <td>9.3</td>\n",
              "      <td>0.60</td>\n",
              "      <td>1.62</td>\n",
              "      <td>840.0</td>\n",
              "      <td>2</td>\n",
              "    </tr>\n",
              "    <tr>\n",
              "      <th>177</th>\n",
              "      <td>14.13</td>\n",
              "      <td>4.10</td>\n",
              "      <td>2.74</td>\n",
              "      <td>24.5</td>\n",
              "      <td>96.0</td>\n",
              "      <td>2.05</td>\n",
              "      <td>0.76</td>\n",
              "      <td>0.56</td>\n",
              "      <td>1.35</td>\n",
              "      <td>9.2</td>\n",
              "      <td>0.61</td>\n",
              "      <td>1.60</td>\n",
              "      <td>560.0</td>\n",
              "      <td>2</td>\n",
              "    </tr>\n",
              "  </tbody>\n",
              "</table>\n",
              "</div>\n",
              "    <div class=\"colab-df-buttons\">\n",
              "\n",
              "  <div class=\"colab-df-container\">\n",
              "    <button class=\"colab-df-convert\" onclick=\"convertToInteractive('df-ed4ffcce-c3c8-4dd4-b800-ac32697fb0c0')\"\n",
              "            title=\"Convert this dataframe to an interactive table.\"\n",
              "            style=\"display:none;\">\n",
              "\n",
              "  <svg xmlns=\"http://www.w3.org/2000/svg\" height=\"24px\" viewBox=\"0 -960 960 960\">\n",
              "    <path d=\"M120-120v-720h720v720H120Zm60-500h600v-160H180v160Zm220 220h160v-160H400v160Zm0 220h160v-160H400v160ZM180-400h160v-160H180v160Zm440 0h160v-160H620v160ZM180-180h160v-160H180v160Zm440 0h160v-160H620v160Z\"/>\n",
              "  </svg>\n",
              "    </button>\n",
              "\n",
              "  <style>\n",
              "    .colab-df-container {\n",
              "      display:flex;\n",
              "      gap: 12px;\n",
              "    }\n",
              "\n",
              "    .colab-df-convert {\n",
              "      background-color: #E8F0FE;\n",
              "      border: none;\n",
              "      border-radius: 50%;\n",
              "      cursor: pointer;\n",
              "      display: none;\n",
              "      fill: #1967D2;\n",
              "      height: 32px;\n",
              "      padding: 0 0 0 0;\n",
              "      width: 32px;\n",
              "    }\n",
              "\n",
              "    .colab-df-convert:hover {\n",
              "      background-color: #E2EBFA;\n",
              "      box-shadow: 0px 1px 2px rgba(60, 64, 67, 0.3), 0px 1px 3px 1px rgba(60, 64, 67, 0.15);\n",
              "      fill: #174EA6;\n",
              "    }\n",
              "\n",
              "    .colab-df-buttons div {\n",
              "      margin-bottom: 4px;\n",
              "    }\n",
              "\n",
              "    [theme=dark] .colab-df-convert {\n",
              "      background-color: #3B4455;\n",
              "      fill: #D2E3FC;\n",
              "    }\n",
              "\n",
              "    [theme=dark] .colab-df-convert:hover {\n",
              "      background-color: #434B5C;\n",
              "      box-shadow: 0px 1px 3px 1px rgba(0, 0, 0, 0.15);\n",
              "      filter: drop-shadow(0px 1px 2px rgba(0, 0, 0, 0.3));\n",
              "      fill: #FFFFFF;\n",
              "    }\n",
              "  </style>\n",
              "\n",
              "    <script>\n",
              "      const buttonEl =\n",
              "        document.querySelector('#df-ed4ffcce-c3c8-4dd4-b800-ac32697fb0c0 button.colab-df-convert');\n",
              "      buttonEl.style.display =\n",
              "        google.colab.kernel.accessAllowed ? 'block' : 'none';\n",
              "\n",
              "      async function convertToInteractive(key) {\n",
              "        const element = document.querySelector('#df-ed4ffcce-c3c8-4dd4-b800-ac32697fb0c0');\n",
              "        const dataTable =\n",
              "          await google.colab.kernel.invokeFunction('convertToInteractive',\n",
              "                                                    [key], {});\n",
              "        if (!dataTable) return;\n",
              "\n",
              "        const docLinkHtml = 'Like what you see? Visit the ' +\n",
              "          '<a target=\"_blank\" href=https://colab.research.google.com/notebooks/data_table.ipynb>data table notebook</a>'\n",
              "          + ' to learn more about interactive tables.';\n",
              "        element.innerHTML = '';\n",
              "        dataTable['output_type'] = 'display_data';\n",
              "        await google.colab.output.renderOutput(dataTable, element);\n",
              "        const docLink = document.createElement('div');\n",
              "        docLink.innerHTML = docLinkHtml;\n",
              "        element.appendChild(docLink);\n",
              "      }\n",
              "    </script>\n",
              "  </div>\n",
              "\n",
              "\n",
              "<div id=\"df-323f5f6a-f8dd-44a1-9245-605ea7478fd7\">\n",
              "  <button class=\"colab-df-quickchart\" onclick=\"quickchart('df-323f5f6a-f8dd-44a1-9245-605ea7478fd7')\"\n",
              "            title=\"Suggest charts\"\n",
              "            style=\"display:none;\">\n",
              "\n",
              "<svg xmlns=\"http://www.w3.org/2000/svg\" height=\"24px\"viewBox=\"0 0 24 24\"\n",
              "     width=\"24px\">\n",
              "    <g>\n",
              "        <path d=\"M19 3H5c-1.1 0-2 .9-2 2v14c0 1.1.9 2 2 2h14c1.1 0 2-.9 2-2V5c0-1.1-.9-2-2-2zM9 17H7v-7h2v7zm4 0h-2V7h2v10zm4 0h-2v-4h2v4z\"/>\n",
              "    </g>\n",
              "</svg>\n",
              "  </button>\n",
              "\n",
              "<style>\n",
              "  .colab-df-quickchart {\n",
              "      --bg-color: #E8F0FE;\n",
              "      --fill-color: #1967D2;\n",
              "      --hover-bg-color: #E2EBFA;\n",
              "      --hover-fill-color: #174EA6;\n",
              "      --disabled-fill-color: #AAA;\n",
              "      --disabled-bg-color: #DDD;\n",
              "  }\n",
              "\n",
              "  [theme=dark] .colab-df-quickchart {\n",
              "      --bg-color: #3B4455;\n",
              "      --fill-color: #D2E3FC;\n",
              "      --hover-bg-color: #434B5C;\n",
              "      --hover-fill-color: #FFFFFF;\n",
              "      --disabled-bg-color: #3B4455;\n",
              "      --disabled-fill-color: #666;\n",
              "  }\n",
              "\n",
              "  .colab-df-quickchart {\n",
              "    background-color: var(--bg-color);\n",
              "    border: none;\n",
              "    border-radius: 50%;\n",
              "    cursor: pointer;\n",
              "    display: none;\n",
              "    fill: var(--fill-color);\n",
              "    height: 32px;\n",
              "    padding: 0;\n",
              "    width: 32px;\n",
              "  }\n",
              "\n",
              "  .colab-df-quickchart:hover {\n",
              "    background-color: var(--hover-bg-color);\n",
              "    box-shadow: 0 1px 2px rgba(60, 64, 67, 0.3), 0 1px 3px 1px rgba(60, 64, 67, 0.15);\n",
              "    fill: var(--button-hover-fill-color);\n",
              "  }\n",
              "\n",
              "  .colab-df-quickchart-complete:disabled,\n",
              "  .colab-df-quickchart-complete:disabled:hover {\n",
              "    background-color: var(--disabled-bg-color);\n",
              "    fill: var(--disabled-fill-color);\n",
              "    box-shadow: none;\n",
              "  }\n",
              "\n",
              "  .colab-df-spinner {\n",
              "    border: 2px solid var(--fill-color);\n",
              "    border-color: transparent;\n",
              "    border-bottom-color: var(--fill-color);\n",
              "    animation:\n",
              "      spin 1s steps(1) infinite;\n",
              "  }\n",
              "\n",
              "  @keyframes spin {\n",
              "    0% {\n",
              "      border-color: transparent;\n",
              "      border-bottom-color: var(--fill-color);\n",
              "      border-left-color: var(--fill-color);\n",
              "    }\n",
              "    20% {\n",
              "      border-color: transparent;\n",
              "      border-left-color: var(--fill-color);\n",
              "      border-top-color: var(--fill-color);\n",
              "    }\n",
              "    30% {\n",
              "      border-color: transparent;\n",
              "      border-left-color: var(--fill-color);\n",
              "      border-top-color: var(--fill-color);\n",
              "      border-right-color: var(--fill-color);\n",
              "    }\n",
              "    40% {\n",
              "      border-color: transparent;\n",
              "      border-right-color: var(--fill-color);\n",
              "      border-top-color: var(--fill-color);\n",
              "    }\n",
              "    60% {\n",
              "      border-color: transparent;\n",
              "      border-right-color: var(--fill-color);\n",
              "    }\n",
              "    80% {\n",
              "      border-color: transparent;\n",
              "      border-right-color: var(--fill-color);\n",
              "      border-bottom-color: var(--fill-color);\n",
              "    }\n",
              "    90% {\n",
              "      border-color: transparent;\n",
              "      border-bottom-color: var(--fill-color);\n",
              "    }\n",
              "  }\n",
              "</style>\n",
              "\n",
              "  <script>\n",
              "    async function quickchart(key) {\n",
              "      const quickchartButtonEl =\n",
              "        document.querySelector('#' + key + ' button');\n",
              "      quickchartButtonEl.disabled = true;  // To prevent multiple clicks.\n",
              "      quickchartButtonEl.classList.add('colab-df-spinner');\n",
              "      try {\n",
              "        const charts = await google.colab.kernel.invokeFunction(\n",
              "            'suggestCharts', [key], {});\n",
              "      } catch (error) {\n",
              "        console.error('Error during call to suggestCharts:', error);\n",
              "      }\n",
              "      quickchartButtonEl.classList.remove('colab-df-spinner');\n",
              "      quickchartButtonEl.classList.add('colab-df-quickchart-complete');\n",
              "    }\n",
              "    (() => {\n",
              "      let quickchartButtonEl =\n",
              "        document.querySelector('#df-323f5f6a-f8dd-44a1-9245-605ea7478fd7 button');\n",
              "      quickchartButtonEl.style.display =\n",
              "        google.colab.kernel.accessAllowed ? 'block' : 'none';\n",
              "    })();\n",
              "  </script>\n",
              "</div>\n",
              "\n",
              "    </div>\n",
              "  </div>\n"
            ],
            "application/vnd.google.colaboratory.intrinsic+json": {
              "type": "dataframe",
              "summary": "{\n  \"name\": \"df\",\n  \"rows\": 5,\n  \"fields\": [\n    {\n      \"column\": \"alcohol\",\n      \"properties\": {\n        \"dtype\": \"number\",\n        \"std\": 0.3893327625566597,\n        \"min\": 13.17,\n        \"max\": 14.13,\n        \"num_unique_values\": 5,\n        \"samples\": [\n          13.4,\n          14.13,\n          13.27\n        ],\n        \"semantic_type\": \"\",\n        \"description\": \"\"\n      }\n    },\n    {\n      \"column\": \"malic_acid\",\n      \"properties\": {\n        \"dtype\": \"number\",\n        \"std\": 1.08983026201331,\n        \"min\": 2.59,\n        \"max\": 5.65,\n        \"num_unique_values\": 5,\n        \"samples\": [\n          3.91,\n          4.1,\n          4.28\n        ],\n        \"semantic_type\": \"\",\n        \"description\": \"\"\n      }\n    },\n    {\n      \"column\": \"ash\",\n      \"properties\": {\n        \"dtype\": \"number\",\n        \"std\": 0.17818529681205472,\n        \"min\": 2.26,\n        \"max\": 2.74,\n        \"num_unique_values\": 5,\n        \"samples\": [\n          2.48,\n          2.74,\n          2.26\n        ],\n        \"semantic_type\": \"\",\n        \"description\": \"\"\n      }\n    },\n    {\n      \"column\": \"alcalinity_of_ash\",\n      \"properties\": {\n        \"dtype\": \"number\",\n        \"std\": 2.043281674170255,\n        \"min\": 20.0,\n        \"max\": 24.5,\n        \"num_unique_values\": 4,\n        \"samples\": [\n          23.0,\n          24.5,\n          20.5\n        ],\n        \"semantic_type\": \"\",\n        \"description\": \"\"\n      }\n    },\n    {\n      \"column\": \"magnesium\",\n      \"properties\": {\n        \"dtype\": \"number\",\n        \"std\": 12.521980673998822,\n        \"min\": 95.0,\n        \"max\": 120.0,\n        \"num_unique_values\": 4,\n        \"samples\": [\n          102.0,\n          96.0,\n          95.0\n        ],\n        \"semantic_type\": \"\",\n        \"description\": \"\"\n      }\n    },\n    {\n      \"column\": \"total_phenols\",\n      \"properties\": {\n        \"dtype\": \"number\",\n        \"std\": 0.18229097618916845,\n        \"min\": 1.59,\n        \"max\": 2.05,\n        \"num_unique_values\": 5,\n        \"samples\": [\n          1.8,\n          2.05,\n          1.59\n        ],\n        \"semantic_type\": \"\",\n        \"description\": \"\"\n      }\n    },\n    {\n      \"column\": \"flavanoids\",\n      \"properties\": {\n        \"dtype\": \"number\",\n        \"std\": 0.060580524923443846,\n        \"min\": 0.61,\n        \"max\": 0.76,\n        \"num_unique_values\": 5,\n        \"samples\": [\n          0.75,\n          0.76,\n          0.69\n        ],\n        \"semantic_type\": \"\",\n        \"description\": \"\"\n      }\n    },\n    {\n      \"column\": \"nonflavanoid_phenols\",\n      \"properties\": {\n        \"dtype\": \"number\",\n        \"std\": 0.060249481325568295,\n        \"min\": 0.43,\n        \"max\": 0.56,\n        \"num_unique_values\": 4,\n        \"samples\": [\n          0.43,\n          0.56,\n          0.52\n        ],\n        \"semantic_type\": \"\",\n        \"description\": \"\"\n      }\n    },\n    {\n      \"column\": \"proanthocyanins\",\n      \"properties\": {\n        \"dtype\": \"number\",\n        \"std\": 0.15565988564816557,\n        \"min\": 1.06,\n        \"max\": 1.46,\n        \"num_unique_values\": 4,\n        \"samples\": [\n          1.41,\n          1.46,\n          1.06\n        ],\n        \"semantic_type\": \"\",\n        \"description\": \"\"\n      }\n    },\n    {\n      \"column\": \"color_intensity\",\n      \"properties\": {\n        \"dtype\": \"number\",\n        \"std\": 1.2054044964243331,\n        \"min\": 7.3,\n        \"max\": 10.2,\n        \"num_unique_values\": 5,\n        \"samples\": [\n          7.3,\n          9.2,\n          10.2\n        ],\n        \"semantic_type\": \"\",\n        \"description\": \"\"\n      }\n    },\n    {\n      \"column\": \"hue\",\n      \"properties\": {\n        \"dtype\": \"number\",\n        \"std\": 0.04438468204234428,\n        \"min\": 0.59,\n        \"max\": 0.7,\n        \"num_unique_values\": 5,\n        \"samples\": [\n          0.7,\n          0.61,\n          0.59\n        ],\n        \"semantic_type\": \"\",\n        \"description\": \"\"\n      }\n    },\n    {\n      \"column\": \"od280/od315_of_diluted_wines\",\n      \"properties\": {\n        \"dtype\": \"number\",\n        \"std\": 0.07402702209328696,\n        \"min\": 1.56,\n        \"max\": 1.74,\n        \"num_unique_values\": 4,\n        \"samples\": [\n          1.56,\n          1.6,\n          1.74\n        ],\n        \"semantic_type\": \"\",\n        \"description\": \"\"\n      }\n    },\n    {\n      \"column\": \"proline\",\n      \"properties\": {\n        \"dtype\": \"number\",\n        \"std\": 113.35784048754634,\n        \"min\": 560.0,\n        \"max\": 840.0,\n        \"num_unique_values\": 5,\n        \"samples\": [\n          750.0,\n          560.0,\n          835.0\n        ],\n        \"semantic_type\": \"\",\n        \"description\": \"\"\n      }\n    },\n    {\n      \"column\": \"target\",\n      \"properties\": {\n        \"dtype\": \"number\",\n        \"std\": 0,\n        \"min\": 2,\n        \"max\": 2,\n        \"num_unique_values\": 1,\n        \"samples\": [\n          2\n        ],\n        \"semantic_type\": \"\",\n        \"description\": \"\"\n      }\n    }\n  ]\n}"
            }
          },
          "metadata": {},
          "execution_count": 5
        }
      ]
    },
    {
      "cell_type": "code",
      "source": [
        "#Checking summary of dataset\n",
        "df.describe()"
      ],
      "metadata": {
        "colab": {
          "base_uri": "https://localhost:8080/",
          "height": 320
        },
        "id": "N2gglKJ5JZ83",
        "outputId": "556494ef-d7a2-46ae-9481-33e9c9362d7c"
      },
      "execution_count": null,
      "outputs": [
        {
          "output_type": "execute_result",
          "data": {
            "text/plain": [
              "          alcohol  malic_acid         ash  alcalinity_of_ash   magnesium  \\\n",
              "count  178.000000  178.000000  178.000000         178.000000  178.000000   \n",
              "mean    13.000618    2.336348    2.366517          19.494944   99.741573   \n",
              "std      0.811827    1.117146    0.274344           3.339564   14.282484   \n",
              "min     11.030000    0.740000    1.360000          10.600000   70.000000   \n",
              "25%     12.362500    1.602500    2.210000          17.200000   88.000000   \n",
              "50%     13.050000    1.865000    2.360000          19.500000   98.000000   \n",
              "75%     13.677500    3.082500    2.557500          21.500000  107.000000   \n",
              "max     14.830000    5.800000    3.230000          30.000000  162.000000   \n",
              "\n",
              "       total_phenols  flavanoids  nonflavanoid_phenols  proanthocyanins  \\\n",
              "count     178.000000  178.000000            178.000000       178.000000   \n",
              "mean        2.295112    2.029270              0.361854         1.590899   \n",
              "std         0.625851    0.998859              0.124453         0.572359   \n",
              "min         0.980000    0.340000              0.130000         0.410000   \n",
              "25%         1.742500    1.205000              0.270000         1.250000   \n",
              "50%         2.355000    2.135000              0.340000         1.555000   \n",
              "75%         2.800000    2.875000              0.437500         1.950000   \n",
              "max         3.880000    5.080000              0.660000         3.580000   \n",
              "\n",
              "       color_intensity         hue  od280/od315_of_diluted_wines      proline  \\\n",
              "count       178.000000  178.000000                    178.000000   178.000000   \n",
              "mean          5.058090    0.957449                      2.611685   746.893258   \n",
              "std           2.318286    0.228572                      0.709990   314.907474   \n",
              "min           1.280000    0.480000                      1.270000   278.000000   \n",
              "25%           3.220000    0.782500                      1.937500   500.500000   \n",
              "50%           4.690000    0.965000                      2.780000   673.500000   \n",
              "75%           6.200000    1.120000                      3.170000   985.000000   \n",
              "max          13.000000    1.710000                      4.000000  1680.000000   \n",
              "\n",
              "           target  \n",
              "count  178.000000  \n",
              "mean     0.938202  \n",
              "std      0.775035  \n",
              "min      0.000000  \n",
              "25%      0.000000  \n",
              "50%      1.000000  \n",
              "75%      2.000000  \n",
              "max      2.000000  "
            ],
            "text/html": [
              "\n",
              "  <div id=\"df-e1f066ef-5ae3-4d3c-b4f8-99bb83d75b90\" class=\"colab-df-container\">\n",
              "    <div>\n",
              "<style scoped>\n",
              "    .dataframe tbody tr th:only-of-type {\n",
              "        vertical-align: middle;\n",
              "    }\n",
              "\n",
              "    .dataframe tbody tr th {\n",
              "        vertical-align: top;\n",
              "    }\n",
              "\n",
              "    .dataframe thead th {\n",
              "        text-align: right;\n",
              "    }\n",
              "</style>\n",
              "<table border=\"1\" class=\"dataframe\">\n",
              "  <thead>\n",
              "    <tr style=\"text-align: right;\">\n",
              "      <th></th>\n",
              "      <th>alcohol</th>\n",
              "      <th>malic_acid</th>\n",
              "      <th>ash</th>\n",
              "      <th>alcalinity_of_ash</th>\n",
              "      <th>magnesium</th>\n",
              "      <th>total_phenols</th>\n",
              "      <th>flavanoids</th>\n",
              "      <th>nonflavanoid_phenols</th>\n",
              "      <th>proanthocyanins</th>\n",
              "      <th>color_intensity</th>\n",
              "      <th>hue</th>\n",
              "      <th>od280/od315_of_diluted_wines</th>\n",
              "      <th>proline</th>\n",
              "      <th>target</th>\n",
              "    </tr>\n",
              "  </thead>\n",
              "  <tbody>\n",
              "    <tr>\n",
              "      <th>count</th>\n",
              "      <td>178.000000</td>\n",
              "      <td>178.000000</td>\n",
              "      <td>178.000000</td>\n",
              "      <td>178.000000</td>\n",
              "      <td>178.000000</td>\n",
              "      <td>178.000000</td>\n",
              "      <td>178.000000</td>\n",
              "      <td>178.000000</td>\n",
              "      <td>178.000000</td>\n",
              "      <td>178.000000</td>\n",
              "      <td>178.000000</td>\n",
              "      <td>178.000000</td>\n",
              "      <td>178.000000</td>\n",
              "      <td>178.000000</td>\n",
              "    </tr>\n",
              "    <tr>\n",
              "      <th>mean</th>\n",
              "      <td>13.000618</td>\n",
              "      <td>2.336348</td>\n",
              "      <td>2.366517</td>\n",
              "      <td>19.494944</td>\n",
              "      <td>99.741573</td>\n",
              "      <td>2.295112</td>\n",
              "      <td>2.029270</td>\n",
              "      <td>0.361854</td>\n",
              "      <td>1.590899</td>\n",
              "      <td>5.058090</td>\n",
              "      <td>0.957449</td>\n",
              "      <td>2.611685</td>\n",
              "      <td>746.893258</td>\n",
              "      <td>0.938202</td>\n",
              "    </tr>\n",
              "    <tr>\n",
              "      <th>std</th>\n",
              "      <td>0.811827</td>\n",
              "      <td>1.117146</td>\n",
              "      <td>0.274344</td>\n",
              "      <td>3.339564</td>\n",
              "      <td>14.282484</td>\n",
              "      <td>0.625851</td>\n",
              "      <td>0.998859</td>\n",
              "      <td>0.124453</td>\n",
              "      <td>0.572359</td>\n",
              "      <td>2.318286</td>\n",
              "      <td>0.228572</td>\n",
              "      <td>0.709990</td>\n",
              "      <td>314.907474</td>\n",
              "      <td>0.775035</td>\n",
              "    </tr>\n",
              "    <tr>\n",
              "      <th>min</th>\n",
              "      <td>11.030000</td>\n",
              "      <td>0.740000</td>\n",
              "      <td>1.360000</td>\n",
              "      <td>10.600000</td>\n",
              "      <td>70.000000</td>\n",
              "      <td>0.980000</td>\n",
              "      <td>0.340000</td>\n",
              "      <td>0.130000</td>\n",
              "      <td>0.410000</td>\n",
              "      <td>1.280000</td>\n",
              "      <td>0.480000</td>\n",
              "      <td>1.270000</td>\n",
              "      <td>278.000000</td>\n",
              "      <td>0.000000</td>\n",
              "    </tr>\n",
              "    <tr>\n",
              "      <th>25%</th>\n",
              "      <td>12.362500</td>\n",
              "      <td>1.602500</td>\n",
              "      <td>2.210000</td>\n",
              "      <td>17.200000</td>\n",
              "      <td>88.000000</td>\n",
              "      <td>1.742500</td>\n",
              "      <td>1.205000</td>\n",
              "      <td>0.270000</td>\n",
              "      <td>1.250000</td>\n",
              "      <td>3.220000</td>\n",
              "      <td>0.782500</td>\n",
              "      <td>1.937500</td>\n",
              "      <td>500.500000</td>\n",
              "      <td>0.000000</td>\n",
              "    </tr>\n",
              "    <tr>\n",
              "      <th>50%</th>\n",
              "      <td>13.050000</td>\n",
              "      <td>1.865000</td>\n",
              "      <td>2.360000</td>\n",
              "      <td>19.500000</td>\n",
              "      <td>98.000000</td>\n",
              "      <td>2.355000</td>\n",
              "      <td>2.135000</td>\n",
              "      <td>0.340000</td>\n",
              "      <td>1.555000</td>\n",
              "      <td>4.690000</td>\n",
              "      <td>0.965000</td>\n",
              "      <td>2.780000</td>\n",
              "      <td>673.500000</td>\n",
              "      <td>1.000000</td>\n",
              "    </tr>\n",
              "    <tr>\n",
              "      <th>75%</th>\n",
              "      <td>13.677500</td>\n",
              "      <td>3.082500</td>\n",
              "      <td>2.557500</td>\n",
              "      <td>21.500000</td>\n",
              "      <td>107.000000</td>\n",
              "      <td>2.800000</td>\n",
              "      <td>2.875000</td>\n",
              "      <td>0.437500</td>\n",
              "      <td>1.950000</td>\n",
              "      <td>6.200000</td>\n",
              "      <td>1.120000</td>\n",
              "      <td>3.170000</td>\n",
              "      <td>985.000000</td>\n",
              "      <td>2.000000</td>\n",
              "    </tr>\n",
              "    <tr>\n",
              "      <th>max</th>\n",
              "      <td>14.830000</td>\n",
              "      <td>5.800000</td>\n",
              "      <td>3.230000</td>\n",
              "      <td>30.000000</td>\n",
              "      <td>162.000000</td>\n",
              "      <td>3.880000</td>\n",
              "      <td>5.080000</td>\n",
              "      <td>0.660000</td>\n",
              "      <td>3.580000</td>\n",
              "      <td>13.000000</td>\n",
              "      <td>1.710000</td>\n",
              "      <td>4.000000</td>\n",
              "      <td>1680.000000</td>\n",
              "      <td>2.000000</td>\n",
              "    </tr>\n",
              "  </tbody>\n",
              "</table>\n",
              "</div>\n",
              "    <div class=\"colab-df-buttons\">\n",
              "\n",
              "  <div class=\"colab-df-container\">\n",
              "    <button class=\"colab-df-convert\" onclick=\"convertToInteractive('df-e1f066ef-5ae3-4d3c-b4f8-99bb83d75b90')\"\n",
              "            title=\"Convert this dataframe to an interactive table.\"\n",
              "            style=\"display:none;\">\n",
              "\n",
              "  <svg xmlns=\"http://www.w3.org/2000/svg\" height=\"24px\" viewBox=\"0 -960 960 960\">\n",
              "    <path d=\"M120-120v-720h720v720H120Zm60-500h600v-160H180v160Zm220 220h160v-160H400v160Zm0 220h160v-160H400v160ZM180-400h160v-160H180v160Zm440 0h160v-160H620v160ZM180-180h160v-160H180v160Zm440 0h160v-160H620v160Z\"/>\n",
              "  </svg>\n",
              "    </button>\n",
              "\n",
              "  <style>\n",
              "    .colab-df-container {\n",
              "      display:flex;\n",
              "      gap: 12px;\n",
              "    }\n",
              "\n",
              "    .colab-df-convert {\n",
              "      background-color: #E8F0FE;\n",
              "      border: none;\n",
              "      border-radius: 50%;\n",
              "      cursor: pointer;\n",
              "      display: none;\n",
              "      fill: #1967D2;\n",
              "      height: 32px;\n",
              "      padding: 0 0 0 0;\n",
              "      width: 32px;\n",
              "    }\n",
              "\n",
              "    .colab-df-convert:hover {\n",
              "      background-color: #E2EBFA;\n",
              "      box-shadow: 0px 1px 2px rgba(60, 64, 67, 0.3), 0px 1px 3px 1px rgba(60, 64, 67, 0.15);\n",
              "      fill: #174EA6;\n",
              "    }\n",
              "\n",
              "    .colab-df-buttons div {\n",
              "      margin-bottom: 4px;\n",
              "    }\n",
              "\n",
              "    [theme=dark] .colab-df-convert {\n",
              "      background-color: #3B4455;\n",
              "      fill: #D2E3FC;\n",
              "    }\n",
              "\n",
              "    [theme=dark] .colab-df-convert:hover {\n",
              "      background-color: #434B5C;\n",
              "      box-shadow: 0px 1px 3px 1px rgba(0, 0, 0, 0.15);\n",
              "      filter: drop-shadow(0px 1px 2px rgba(0, 0, 0, 0.3));\n",
              "      fill: #FFFFFF;\n",
              "    }\n",
              "  </style>\n",
              "\n",
              "    <script>\n",
              "      const buttonEl =\n",
              "        document.querySelector('#df-e1f066ef-5ae3-4d3c-b4f8-99bb83d75b90 button.colab-df-convert');\n",
              "      buttonEl.style.display =\n",
              "        google.colab.kernel.accessAllowed ? 'block' : 'none';\n",
              "\n",
              "      async function convertToInteractive(key) {\n",
              "        const element = document.querySelector('#df-e1f066ef-5ae3-4d3c-b4f8-99bb83d75b90');\n",
              "        const dataTable =\n",
              "          await google.colab.kernel.invokeFunction('convertToInteractive',\n",
              "                                                    [key], {});\n",
              "        if (!dataTable) return;\n",
              "\n",
              "        const docLinkHtml = 'Like what you see? Visit the ' +\n",
              "          '<a target=\"_blank\" href=https://colab.research.google.com/notebooks/data_table.ipynb>data table notebook</a>'\n",
              "          + ' to learn more about interactive tables.';\n",
              "        element.innerHTML = '';\n",
              "        dataTable['output_type'] = 'display_data';\n",
              "        await google.colab.output.renderOutput(dataTable, element);\n",
              "        const docLink = document.createElement('div');\n",
              "        docLink.innerHTML = docLinkHtml;\n",
              "        element.appendChild(docLink);\n",
              "      }\n",
              "    </script>\n",
              "  </div>\n",
              "\n",
              "\n",
              "<div id=\"df-d0b699fe-c1e9-4fb0-a9f4-f0063503a585\">\n",
              "  <button class=\"colab-df-quickchart\" onclick=\"quickchart('df-d0b699fe-c1e9-4fb0-a9f4-f0063503a585')\"\n",
              "            title=\"Suggest charts\"\n",
              "            style=\"display:none;\">\n",
              "\n",
              "<svg xmlns=\"http://www.w3.org/2000/svg\" height=\"24px\"viewBox=\"0 0 24 24\"\n",
              "     width=\"24px\">\n",
              "    <g>\n",
              "        <path d=\"M19 3H5c-1.1 0-2 .9-2 2v14c0 1.1.9 2 2 2h14c1.1 0 2-.9 2-2V5c0-1.1-.9-2-2-2zM9 17H7v-7h2v7zm4 0h-2V7h2v10zm4 0h-2v-4h2v4z\"/>\n",
              "    </g>\n",
              "</svg>\n",
              "  </button>\n",
              "\n",
              "<style>\n",
              "  .colab-df-quickchart {\n",
              "      --bg-color: #E8F0FE;\n",
              "      --fill-color: #1967D2;\n",
              "      --hover-bg-color: #E2EBFA;\n",
              "      --hover-fill-color: #174EA6;\n",
              "      --disabled-fill-color: #AAA;\n",
              "      --disabled-bg-color: #DDD;\n",
              "  }\n",
              "\n",
              "  [theme=dark] .colab-df-quickchart {\n",
              "      --bg-color: #3B4455;\n",
              "      --fill-color: #D2E3FC;\n",
              "      --hover-bg-color: #434B5C;\n",
              "      --hover-fill-color: #FFFFFF;\n",
              "      --disabled-bg-color: #3B4455;\n",
              "      --disabled-fill-color: #666;\n",
              "  }\n",
              "\n",
              "  .colab-df-quickchart {\n",
              "    background-color: var(--bg-color);\n",
              "    border: none;\n",
              "    border-radius: 50%;\n",
              "    cursor: pointer;\n",
              "    display: none;\n",
              "    fill: var(--fill-color);\n",
              "    height: 32px;\n",
              "    padding: 0;\n",
              "    width: 32px;\n",
              "  }\n",
              "\n",
              "  .colab-df-quickchart:hover {\n",
              "    background-color: var(--hover-bg-color);\n",
              "    box-shadow: 0 1px 2px rgba(60, 64, 67, 0.3), 0 1px 3px 1px rgba(60, 64, 67, 0.15);\n",
              "    fill: var(--button-hover-fill-color);\n",
              "  }\n",
              "\n",
              "  .colab-df-quickchart-complete:disabled,\n",
              "  .colab-df-quickchart-complete:disabled:hover {\n",
              "    background-color: var(--disabled-bg-color);\n",
              "    fill: var(--disabled-fill-color);\n",
              "    box-shadow: none;\n",
              "  }\n",
              "\n",
              "  .colab-df-spinner {\n",
              "    border: 2px solid var(--fill-color);\n",
              "    border-color: transparent;\n",
              "    border-bottom-color: var(--fill-color);\n",
              "    animation:\n",
              "      spin 1s steps(1) infinite;\n",
              "  }\n",
              "\n",
              "  @keyframes spin {\n",
              "    0% {\n",
              "      border-color: transparent;\n",
              "      border-bottom-color: var(--fill-color);\n",
              "      border-left-color: var(--fill-color);\n",
              "    }\n",
              "    20% {\n",
              "      border-color: transparent;\n",
              "      border-left-color: var(--fill-color);\n",
              "      border-top-color: var(--fill-color);\n",
              "    }\n",
              "    30% {\n",
              "      border-color: transparent;\n",
              "      border-left-color: var(--fill-color);\n",
              "      border-top-color: var(--fill-color);\n",
              "      border-right-color: var(--fill-color);\n",
              "    }\n",
              "    40% {\n",
              "      border-color: transparent;\n",
              "      border-right-color: var(--fill-color);\n",
              "      border-top-color: var(--fill-color);\n",
              "    }\n",
              "    60% {\n",
              "      border-color: transparent;\n",
              "      border-right-color: var(--fill-color);\n",
              "    }\n",
              "    80% {\n",
              "      border-color: transparent;\n",
              "      border-right-color: var(--fill-color);\n",
              "      border-bottom-color: var(--fill-color);\n",
              "    }\n",
              "    90% {\n",
              "      border-color: transparent;\n",
              "      border-bottom-color: var(--fill-color);\n",
              "    }\n",
              "  }\n",
              "</style>\n",
              "\n",
              "  <script>\n",
              "    async function quickchart(key) {\n",
              "      const quickchartButtonEl =\n",
              "        document.querySelector('#' + key + ' button');\n",
              "      quickchartButtonEl.disabled = true;  // To prevent multiple clicks.\n",
              "      quickchartButtonEl.classList.add('colab-df-spinner');\n",
              "      try {\n",
              "        const charts = await google.colab.kernel.invokeFunction(\n",
              "            'suggestCharts', [key], {});\n",
              "      } catch (error) {\n",
              "        console.error('Error during call to suggestCharts:', error);\n",
              "      }\n",
              "      quickchartButtonEl.classList.remove('colab-df-spinner');\n",
              "      quickchartButtonEl.classList.add('colab-df-quickchart-complete');\n",
              "    }\n",
              "    (() => {\n",
              "      let quickchartButtonEl =\n",
              "        document.querySelector('#df-d0b699fe-c1e9-4fb0-a9f4-f0063503a585 button');\n",
              "      quickchartButtonEl.style.display =\n",
              "        google.colab.kernel.accessAllowed ? 'block' : 'none';\n",
              "    })();\n",
              "  </script>\n",
              "</div>\n",
              "\n",
              "    </div>\n",
              "  </div>\n"
            ],
            "application/vnd.google.colaboratory.intrinsic+json": {
              "type": "dataframe",
              "summary": "{\n  \"name\": \"df\",\n  \"rows\": 8,\n  \"fields\": [\n    {\n      \"column\": \"alcohol\",\n      \"properties\": {\n        \"dtype\": \"number\",\n        \"std\": 59.11804622765535,\n        \"min\": 0.8118265380058577,\n        \"max\": 178.0,\n        \"num_unique_values\": 8,\n        \"samples\": [\n          13.00061797752809,\n          13.05,\n          178.0\n        ],\n        \"semantic_type\": \"\",\n        \"description\": \"\"\n      }\n    },\n    {\n      \"column\": \"malic_acid\",\n      \"properties\": {\n        \"dtype\": \"number\",\n        \"std\": 62.116878053835904,\n        \"min\": 0.74,\n        \"max\": 178.0,\n        \"num_unique_values\": 8,\n        \"samples\": [\n          2.3363483146067416,\n          1.8650000000000002,\n          178.0\n        ],\n        \"semantic_type\": \"\",\n        \"description\": \"\"\n      }\n    },\n    {\n      \"column\": \"ash\",\n      \"properties\": {\n        \"dtype\": \"number\",\n        \"std\": 62.2136127716068,\n        \"min\": 0.2743440090608148,\n        \"max\": 178.0,\n        \"num_unique_values\": 8,\n        \"samples\": [\n          2.3665168539325845,\n          2.36,\n          178.0\n        ],\n        \"semantic_type\": \"\",\n        \"description\": \"\"\n      }\n    },\n    {\n      \"column\": \"alcalinity_of_ash\",\n      \"properties\": {\n        \"dtype\": \"number\",\n        \"std\": 57.32526338306686,\n        \"min\": 3.3395637671735052,\n        \"max\": 178.0,\n        \"num_unique_values\": 8,\n        \"samples\": [\n          19.49494382022472,\n          19.5,\n          178.0\n        ],\n        \"semantic_type\": \"\",\n        \"description\": \"\"\n      }\n    },\n    {\n      \"column\": \"magnesium\",\n      \"properties\": {\n        \"dtype\": \"number\",\n        \"std\": 51.18081686409121,\n        \"min\": 14.282483515295668,\n        \"max\": 178.0,\n        \"num_unique_values\": 8,\n        \"samples\": [\n          99.74157303370787,\n          98.0,\n          178.0\n        ],\n        \"semantic_type\": \"\",\n        \"description\": \"\"\n      }\n    },\n    {\n      \"column\": \"total_phenols\",\n      \"properties\": {\n        \"dtype\": \"number\",\n        \"std\": 62.19953212829461,\n        \"min\": 0.6258510488339891,\n        \"max\": 178.0,\n        \"num_unique_values\": 8,\n        \"samples\": [\n          2.295112359550562,\n          2.355,\n          178.0\n        ],\n        \"semantic_type\": \"\",\n        \"description\": \"\"\n      }\n    },\n    {\n      \"column\": \"flavanoids\",\n      \"properties\": {\n        \"dtype\": \"number\",\n        \"std\": 62.20866774807846,\n        \"min\": 0.34,\n        \"max\": 178.0,\n        \"num_unique_values\": 8,\n        \"samples\": [\n          2.0292696629213487,\n          2.135,\n          178.0\n        ],\n        \"semantic_type\": \"\",\n        \"description\": \"\"\n      }\n    },\n    {\n      \"column\": \"nonflavanoid_phenols\",\n      \"properties\": {\n        \"dtype\": \"number\",\n        \"std\": 62.81536936528359,\n        \"min\": 0.12445334029667939,\n        \"max\": 178.0,\n        \"num_unique_values\": 8,\n        \"samples\": [\n          0.3618539325842696,\n          0.34,\n          178.0\n        ],\n        \"semantic_type\": \"\",\n        \"description\": \"\"\n      }\n    },\n    {\n      \"column\": \"proanthocyanins\",\n      \"properties\": {\n        \"dtype\": \"number\",\n        \"std\": 62.389141510191415,\n        \"min\": 0.41,\n        \"max\": 178.0,\n        \"num_unique_values\": 8,\n        \"samples\": [\n          1.5908988764044945,\n          1.5550000000000002,\n          178.0\n        ],\n        \"semantic_type\": \"\",\n        \"description\": \"\"\n      }\n    },\n    {\n      \"column\": \"color_intensity\",\n      \"properties\": {\n        \"dtype\": \"number\",\n        \"std\": 61.23070389608627,\n        \"min\": 1.28,\n        \"max\": 178.0,\n        \"num_unique_values\": 8,\n        \"samples\": [\n          5.058089882022472,\n          4.6899999999999995,\n          178.0\n        ],\n        \"semantic_type\": \"\",\n        \"description\": \"\"\n      }\n    },\n    {\n      \"column\": \"hue\",\n      \"properties\": {\n        \"dtype\": \"number\",\n        \"std\": 62.618701002452724,\n        \"min\": 0.22857156582982338,\n        \"max\": 178.0,\n        \"num_unique_values\": 8,\n        \"samples\": [\n          0.9574494382022471,\n          0.965,\n          178.0\n        ],\n        \"semantic_type\": \"\",\n        \"description\": \"\"\n      }\n    },\n    {\n      \"column\": \"od280/od315_of_diluted_wines\",\n      \"properties\": {\n        \"dtype\": \"number\",\n        \"std\": 62.109005977624996,\n        \"min\": 0.7099904287650505,\n        \"max\": 178.0,\n        \"num_unique_values\": 8,\n        \"samples\": [\n          2.6116853932584267,\n          2.78,\n          178.0\n        ],\n        \"semantic_type\": \"\",\n        \"description\": \"\"\n      }\n    },\n    {\n      \"column\": \"proline\",\n      \"properties\": {\n        \"dtype\": \"number\",\n        \"std\": 489.2848273029377,\n        \"min\": 178.0,\n        \"max\": 1680.0,\n        \"num_unique_values\": 8,\n        \"samples\": [\n          746.8932584269663,\n          673.5,\n          178.0\n        ],\n        \"semantic_type\": \"\",\n        \"description\": \"\"\n      }\n    },\n    {\n      \"column\": \"target\",\n      \"properties\": {\n        \"dtype\": \"number\",\n        \"std\": 62.59804698158683,\n        \"min\": 0.0,\n        \"max\": 178.0,\n        \"num_unique_values\": 6,\n        \"samples\": [\n          178.0,\n          0.9382022471910112,\n          2.0\n        ],\n        \"semantic_type\": \"\",\n        \"description\": \"\"\n      }\n    }\n  ]\n}"
            }
          },
          "metadata": {},
          "execution_count": 6
        }
      ]
    },
    {
      "cell_type": "markdown",
      "source": [
        "\n",
        "\n",
        "*   Upon inspecting the dataset, ‘target’ feature has specific/limited values and hence is categorical.\n",
        "*   Now, in order to find frequency of each value of the categorical feature I will execute below code in python.\n",
        "\n",
        "\n"
      ],
      "metadata": {
        "id": "0hUQCcy0K1wg"
      }
    },
    {
      "cell_type": "code",
      "source": [
        "#Calculating the frequency of values in ‘target’ feature\n",
        "Freq_Target = df['target'].value_counts() / len(df['target'])\n",
        "print('Frequency for each value of target : \\n', Freq_Target)"
      ],
      "metadata": {
        "colab": {
          "base_uri": "https://localhost:8080/"
        },
        "id": "LRfOWV9HKQ2a",
        "outputId": "659009ce-1a90-4d44-b18f-e057cbe73d11"
      },
      "execution_count": null,
      "outputs": [
        {
          "output_type": "stream",
          "name": "stdout",
          "text": [
            "Frequency for each value of target : \n",
            " target\n",
            "1    0.398876\n",
            "0    0.331461\n",
            "2    0.269663\n",
            "Name: count, dtype: float64\n"
          ]
        }
      ]
    },
    {
      "cell_type": "markdown",
      "source": [
        "### **b) Compute two different univariate and two different multivariate summaries for all numerical features. Include the code in your report.**\n",
        "\n",
        "---\n",
        "\n"
      ],
      "metadata": {
        "id": "QjoHLYXILDCF"
      }
    },
    {
      "cell_type": "markdown",
      "source": [
        "\n",
        "\n",
        "**1.   Univariate Summaries**\n",
        "\n"
      ],
      "metadata": {
        "id": "amAv-6MeLKPa"
      }
    },
    {
      "cell_type": "markdown",
      "source": [
        "\n",
        "\n",
        "*   **Mean** - To summarise average/mean of each and every numerical feature\n",
        "\n"
      ],
      "metadata": {
        "id": "cD00TZn6LR--"
      }
    },
    {
      "cell_type": "code",
      "source": [
        "#Calculating mean of each numerical feature\n",
        "Mean = df.loc[:, df.columns != 'target'].mean()\n",
        "print('Mean summary for every feature :\\n', Mean)"
      ],
      "metadata": {
        "colab": {
          "base_uri": "https://localhost:8080/"
        },
        "id": "mY8zQsOhLVBX",
        "outputId": "7ea8e7f4-7599-489f-c220-36a99e63a988"
      },
      "execution_count": null,
      "outputs": [
        {
          "output_type": "stream",
          "name": "stdout",
          "text": [
            "Mean summary for every feature :\n",
            " alcohol                          13.000618\n",
            "malic_acid                        2.336348\n",
            "ash                               2.366517\n",
            "alcalinity_of_ash                19.494944\n",
            "magnesium                        99.741573\n",
            "total_phenols                     2.295112\n",
            "flavanoids                        2.029270\n",
            "nonflavanoid_phenols              0.361854\n",
            "proanthocyanins                   1.590899\n",
            "color_intensity                   5.058090\n",
            "hue                               0.957449\n",
            "od280/od315_of_diluted_wines      2.611685\n",
            "proline                         746.893258\n",
            "dtype: float64\n"
          ]
        }
      ]
    },
    {
      "cell_type": "markdown",
      "source": [
        "\n",
        "\n",
        "*   **Standard Deviation** - To summarise deviation from the mean value"
      ],
      "metadata": {
        "id": "LbZS4JunQ1Lx"
      }
    },
    {
      "cell_type": "code",
      "source": [
        "#Calculating standard deviation for each numerical feature\n",
        "Std_Dev = df.loc[:, df.columns != 'target'].std()\n",
        "print('Standard Deviation summary for each feature :\\n', Std_Dev)"
      ],
      "metadata": {
        "colab": {
          "base_uri": "https://localhost:8080/"
        },
        "id": "pqHFq0DLRu_L",
        "outputId": "00045849-133f-4ea2-d1a0-6397e0ce90a4"
      },
      "execution_count": null,
      "outputs": [
        {
          "output_type": "stream",
          "name": "stdout",
          "text": [
            "Standard Deviation summary for each feature :\n",
            " alcohol                           0.811827\n",
            "malic_acid                        1.117146\n",
            "ash                               0.274344\n",
            "alcalinity_of_ash                 3.339564\n",
            "magnesium                        14.282484\n",
            "total_phenols                     0.625851\n",
            "flavanoids                        0.998859\n",
            "nonflavanoid_phenols              0.124453\n",
            "proanthocyanins                   0.572359\n",
            "color_intensity                   2.318286\n",
            "hue                               0.228572\n",
            "od280/od315_of_diluted_wines      0.709990\n",
            "proline                         314.907474\n",
            "dtype: float64\n"
          ]
        }
      ]
    },
    {
      "cell_type": "markdown",
      "source": [
        "\n",
        "\n",
        "**2.   Multivariate Summaries**\n",
        "\n"
      ],
      "metadata": {
        "id": "7CFpIz7hUCPy"
      }
    },
    {
      "cell_type": "markdown",
      "source": [
        "\n",
        "\n",
        "*   **Correlation Matrix** - Gives an idea that how strongly two features are linearly related\n"
      ],
      "metadata": {
        "id": "gHiq-l3LUHYx"
      }
    },
    {
      "cell_type": "code",
      "source": [
        "#Correlation matrix for each numerical features\n",
        "Correlation = df.loc[:, df.columns != 'target'].corr()\n",
        "print('Correlation matrix for numerical features :\\n', Correlation)"
      ],
      "metadata": {
        "colab": {
          "base_uri": "https://localhost:8080/"
        },
        "id": "4Ob8kv42WGc0",
        "outputId": "8b36df99-30ea-45cc-a3b9-464ecf98042d"
      },
      "execution_count": null,
      "outputs": [
        {
          "output_type": "stream",
          "name": "stdout",
          "text": [
            "Correlation matrix for numerical features :\n",
            "                                alcohol  malic_acid       ash  \\\n",
            "alcohol                       1.000000    0.094397  0.211545   \n",
            "malic_acid                    0.094397    1.000000  0.164045   \n",
            "ash                           0.211545    0.164045  1.000000   \n",
            "alcalinity_of_ash            -0.310235    0.288500  0.443367   \n",
            "magnesium                     0.270798   -0.054575  0.286587   \n",
            "total_phenols                 0.289101   -0.335167  0.128980   \n",
            "flavanoids                    0.236815   -0.411007  0.115077   \n",
            "nonflavanoid_phenols         -0.155929    0.292977  0.186230   \n",
            "proanthocyanins               0.136698   -0.220746  0.009652   \n",
            "color_intensity               0.546364    0.248985  0.258887   \n",
            "hue                          -0.071747   -0.561296 -0.074667   \n",
            "od280/od315_of_diluted_wines  0.072343   -0.368710  0.003911   \n",
            "proline                       0.643720   -0.192011  0.223626   \n",
            "\n",
            "                              alcalinity_of_ash  magnesium  total_phenols  \\\n",
            "alcohol                               -0.310235   0.270798       0.289101   \n",
            "malic_acid                             0.288500  -0.054575      -0.335167   \n",
            "ash                                    0.443367   0.286587       0.128980   \n",
            "alcalinity_of_ash                      1.000000  -0.083333      -0.321113   \n",
            "magnesium                             -0.083333   1.000000       0.214401   \n",
            "total_phenols                         -0.321113   0.214401       1.000000   \n",
            "flavanoids                            -0.351370   0.195784       0.864564   \n",
            "nonflavanoid_phenols                   0.361922  -0.256294      -0.449935   \n",
            "proanthocyanins                       -0.197327   0.236441       0.612413   \n",
            "color_intensity                        0.018732   0.199950      -0.055136   \n",
            "hue                                   -0.273955   0.055398       0.433681   \n",
            "od280/od315_of_diluted_wines          -0.276769   0.066004       0.699949   \n",
            "proline                               -0.440597   0.393351       0.498115   \n",
            "\n",
            "                              flavanoids  nonflavanoid_phenols  \\\n",
            "alcohol                         0.236815             -0.155929   \n",
            "malic_acid                     -0.411007              0.292977   \n",
            "ash                             0.115077              0.186230   \n",
            "alcalinity_of_ash              -0.351370              0.361922   \n",
            "magnesium                       0.195784             -0.256294   \n",
            "total_phenols                   0.864564             -0.449935   \n",
            "flavanoids                      1.000000             -0.537900   \n",
            "nonflavanoid_phenols           -0.537900              1.000000   \n",
            "proanthocyanins                 0.652692             -0.365845   \n",
            "color_intensity                -0.172379              0.139057   \n",
            "hue                             0.543479             -0.262640   \n",
            "od280/od315_of_diluted_wines    0.787194             -0.503270   \n",
            "proline                         0.494193             -0.311385   \n",
            "\n",
            "                              proanthocyanins  color_intensity       hue  \\\n",
            "alcohol                              0.136698         0.546364 -0.071747   \n",
            "malic_acid                          -0.220746         0.248985 -0.561296   \n",
            "ash                                  0.009652         0.258887 -0.074667   \n",
            "alcalinity_of_ash                   -0.197327         0.018732 -0.273955   \n",
            "magnesium                            0.236441         0.199950  0.055398   \n",
            "total_phenols                        0.612413        -0.055136  0.433681   \n",
            "flavanoids                           0.652692        -0.172379  0.543479   \n",
            "nonflavanoid_phenols                -0.365845         0.139057 -0.262640   \n",
            "proanthocyanins                      1.000000        -0.025250  0.295544   \n",
            "color_intensity                     -0.025250         1.000000 -0.521813   \n",
            "hue                                  0.295544        -0.521813  1.000000   \n",
            "od280/od315_of_diluted_wines         0.519067        -0.428815  0.565468   \n",
            "proline                              0.330417         0.316100  0.236183   \n",
            "\n",
            "                              od280/od315_of_diluted_wines   proline  \n",
            "alcohol                                           0.072343  0.643720  \n",
            "malic_acid                                       -0.368710 -0.192011  \n",
            "ash                                               0.003911  0.223626  \n",
            "alcalinity_of_ash                                -0.276769 -0.440597  \n",
            "magnesium                                         0.066004  0.393351  \n",
            "total_phenols                                     0.699949  0.498115  \n",
            "flavanoids                                        0.787194  0.494193  \n",
            "nonflavanoid_phenols                             -0.503270 -0.311385  \n",
            "proanthocyanins                                   0.519067  0.330417  \n",
            "color_intensity                                  -0.428815  0.316100  \n",
            "hue                                               0.565468  0.236183  \n",
            "od280/od315_of_diluted_wines                      1.000000  0.312761  \n",
            "proline                                           0.312761  1.000000  \n"
          ]
        }
      ]
    },
    {
      "cell_type": "markdown",
      "source": [
        "\n",
        "\n",
        "*   **Covariance Matrix** – Gives an idea on the direction of the linear relationship between two features\n"
      ],
      "metadata": {
        "id": "4UAVCHnvdYOs"
      }
    },
    {
      "cell_type": "code",
      "source": [
        "#Covariance matrix for each numerical features\n",
        "Covariance = df.loc[:, df.columns != 'target'].cov()\n",
        "print('Covariance matrix for numerical features :\\n', Covariance)"
      ],
      "metadata": {
        "colab": {
          "base_uri": "https://localhost:8080/"
        },
        "id": "yxZq-tu5eSpA",
        "outputId": "db0b86f3-312b-4dda-9020-58cae50516e0"
      },
      "execution_count": null,
      "outputs": [
        {
          "output_type": "stream",
          "name": "stdout",
          "text": [
            "Covariance matrix for numerical features :\n",
            "                                  alcohol  malic_acid        ash  \\\n",
            "alcohol                         0.659062    0.085611   0.047115   \n",
            "malic_acid                      0.085611    1.248015   0.050277   \n",
            "ash                             0.047115    0.050277   0.075265   \n",
            "alcalinity_of_ash              -0.841093    1.076332   0.406208   \n",
            "magnesium                       3.139878   -0.870780   1.122937   \n",
            "total_phenols                   0.146887   -0.234338   0.022146   \n",
            "flavanoids                      0.192033   -0.458630   0.031535   \n",
            "nonflavanoid_phenols           -0.015754    0.040733   0.006358   \n",
            "proanthocyanins                 0.063518   -0.141147   0.001516   \n",
            "color_intensity                 1.028283    0.644838   0.164654   \n",
            "hue                            -0.013313   -0.143326  -0.004682   \n",
            "od280/od315_of_diluted_wines    0.041698   -0.292447   0.000762   \n",
            "proline                       164.567185  -67.548867  19.319739   \n",
            "\n",
            "                              alcalinity_of_ash    magnesium  total_phenols  \\\n",
            "alcohol                               -0.841093     3.139878       0.146887   \n",
            "malic_acid                             1.076332    -0.870780      -0.234338   \n",
            "ash                                    0.406208     1.122937       0.022146   \n",
            "alcalinity_of_ash                     11.152686    -3.974760      -0.671149   \n",
            "magnesium                             -3.974760   203.989335       1.916470   \n",
            "total_phenols                         -0.671149     1.916470       0.391690   \n",
            "flavanoids                            -1.172083     2.793087       0.540470   \n",
            "nonflavanoid_phenols                   0.150422    -0.455563      -0.035045   \n",
            "proanthocyanins                       -0.377176     1.932832       0.219373   \n",
            "color_intensity                        0.145024     6.620521      -0.079998   \n",
            "hue                                   -0.209118     0.180851       0.062039   \n",
            "od280/od315_of_diluted_wines          -0.656234     0.669308       0.311021   \n",
            "proline                             -463.355345  1769.158700      98.171057   \n",
            "\n",
            "                              flavanoids  nonflavanoid_phenols  \\\n",
            "alcohol                         0.192033             -0.015754   \n",
            "malic_acid                     -0.458630              0.040733   \n",
            "ash                             0.031535              0.006358   \n",
            "alcalinity_of_ash              -1.172083              0.150422   \n",
            "magnesium                       2.793087             -0.455563   \n",
            "total_phenols                   0.540470             -0.035045   \n",
            "flavanoids                      0.997719             -0.066867   \n",
            "nonflavanoid_phenols           -0.066867              0.015489   \n",
            "proanthocyanins                 0.373148             -0.026060   \n",
            "color_intensity                -0.399169              0.040121   \n",
            "hue                             0.124082             -0.007471   \n",
            "od280/od315_of_diluted_wines    0.558262             -0.044469   \n",
            "proline                       155.447492            -12.203586   \n",
            "\n",
            "                              proanthocyanins  color_intensity        hue  \\\n",
            "alcohol                              0.063518         1.028283  -0.013313   \n",
            "malic_acid                          -0.141147         0.644838  -0.143326   \n",
            "ash                                  0.001516         0.164654  -0.004682   \n",
            "alcalinity_of_ash                   -0.377176         0.145024  -0.209118   \n",
            "magnesium                            1.932832         6.620521   0.180851   \n",
            "total_phenols                        0.219373        -0.079998   0.062039   \n",
            "flavanoids                           0.373148        -0.399169   0.124082   \n",
            "nonflavanoid_phenols                -0.026060         0.040121  -0.007471   \n",
            "proanthocyanins                      0.327595        -0.033504   0.038665   \n",
            "color_intensity                     -0.033504         5.374449  -0.276506   \n",
            "hue                                  0.038665        -0.276506   0.052245   \n",
            "od280/od315_of_diluted_wines         0.210933        -0.705813   0.091766   \n",
            "proline                             59.554334       230.767480  17.000223   \n",
            "\n",
            "                              od280/od315_of_diluted_wines       proline  \n",
            "alcohol                                           0.041698    164.567185  \n",
            "malic_acid                                       -0.292447    -67.548867  \n",
            "ash                                               0.000762     19.319739  \n",
            "alcalinity_of_ash                                -0.656234   -463.355345  \n",
            "magnesium                                         0.669308   1769.158700  \n",
            "total_phenols                                     0.311021     98.171057  \n",
            "flavanoids                                        0.558262    155.447492  \n",
            "nonflavanoid_phenols                             -0.044469    -12.203586  \n",
            "proanthocyanins                                   0.210933     59.554334  \n",
            "color_intensity                                  -0.705813    230.767480  \n",
            "hue                                               0.091766     17.000223  \n",
            "od280/od315_of_diluted_wines                      0.504086     69.927526  \n",
            "proline                                          69.927526  99166.717355  \n"
          ]
        }
      ]
    },
    {
      "cell_type": "markdown",
      "source": [
        "### **c) Group observations by the categorical feature & compute the corresponding median for each remaining numerical feature. Include the code in your report.**\n",
        "\n",
        "---\n",
        "\n"
      ],
      "metadata": {
        "id": "n4V6egQhgNHH"
      }
    },
    {
      "cell_type": "code",
      "source": [
        "#Grouping the dataframe by 'target' feature, further calculating median for each numerical features\n",
        "Target_Median = df.groupby('target').median()\n",
        "\n",
        "#Printing the result\n",
        "print('Median values for each feature grouped by \"Target\" values :\\n', Target_Median)"
      ],
      "metadata": {
        "colab": {
          "base_uri": "https://localhost:8080/"
        },
        "id": "2Xc2pDIahCWG",
        "outputId": "f4580c2e-86ae-47a2-eb7e-728d99539d68"
      },
      "execution_count": null,
      "outputs": [
        {
          "output_type": "stream",
          "name": "stdout",
          "text": [
            "Median values for each feature grouped by \"Target\" values :\n",
            "         alcohol  malic_acid   ash  alcalinity_of_ash  magnesium  \\\n",
            "target                                                            \n",
            "0        13.750       1.770  2.44               16.8      104.0   \n",
            "1        12.290       1.610  2.24               20.0       88.0   \n",
            "2        13.165       3.265  2.38               21.0       97.0   \n",
            "\n",
            "        total_phenols  flavanoids  nonflavanoid_phenols  proanthocyanins  \\\n",
            "target                                                                     \n",
            "0               2.800       2.980                  0.29            1.870   \n",
            "1               2.200       2.030                  0.37            1.610   \n",
            "2               1.635       0.685                  0.47            1.105   \n",
            "\n",
            "        color_intensity    hue  od280/od315_of_diluted_wines  proline  \n",
            "target                                                                 \n",
            "0                  5.40  1.070                          3.17   1095.0  \n",
            "1                  2.90  1.040                          2.83    495.0  \n",
            "2                  7.55  0.665                          1.66    627.5  \n"
          ]
        }
      ]
    },
    {
      "cell_type": "markdown",
      "source": [
        "### **d) Create a scatter plot for the pair of distinct numerical features with the highest correlation. Include the code in your report.**\n",
        "\n",
        "---\n",
        "\n"
      ],
      "metadata": {
        "id": "Q4i31zuqwHBu"
      }
    },
    {
      "cell_type": "code",
      "source": [
        "#Importing required library for plotting\n",
        "import matplotlib.pyplot as plt\n",
        "\n",
        "#Finding the highest correlation pair\n",
        "Highest_Correlation_Pair = Correlation.unstack().sort_values(ascending=False)\n",
        "\n",
        "#Eliminating self-correlation i.e. value 1\n",
        "Highest_Correlation_Pair = Highest_Correlation_Pair[Highest_Correlation_Pair < 1]\n",
        "\n",
        "#Identifying the features with highest correlation\n",
        "Highest_Correl_F1, Highest_Correl_F2 = Highest_Correlation_Pair.idxmax()\n",
        "\n",
        "#Scatter plot graph\n",
        "plt.scatter(df[Highest_Correl_F1], df[Highest_Correl_F2], alpha=0.5, color='red')\n",
        "plt.title('Scatter Plot between {} and {}'.format(Highest_Correl_F1, Highest_Correl_F2))\n",
        "plt.xlabel(Highest_Correl_F1)\n",
        "plt.ylabel(Highest_Correl_F2)\n",
        "plt.grid()\n",
        "plt.show()"
      ],
      "metadata": {
        "colab": {
          "base_uri": "https://localhost:8080/",
          "height": 472
        },
        "id": "EMy-B14psWYO",
        "outputId": "e8f20896-2bb5-4a1f-9b79-492fc4d0d496"
      },
      "execution_count": null,
      "outputs": [
        {
          "output_type": "display_data",
          "data": {
            "text/plain": [
              "<Figure size 640x480 with 1 Axes>"
            ],
            "image/png": "[encoded data removed]"
          },
          "metadata": {}
        }
      ]
    },
    {
      "cell_type": "markdown",
      "source": [
        "##Question 2\n",
        "**2) Consider the following sales data:**\n",
        ">\n",
        "[5, 20, 1, 6, 13, 8, 9, 11, 17, 7, 2, 12]\n",
        ">\n",
        "**Apply the following binning techniques on the data, assuming 3 bins in each case:**\n",
        "- Equal-frequency binning\n",
        "- Smoothing by bin boundaries\n",
        "\n",
        "---\n",
        "\n"
      ],
      "metadata": {
        "id": "_56dGUWFzp0n"
      }
    },
    {
      "cell_type": "markdown",
      "source": [
        "## Question 3"
      ],
      "metadata": {
        "id": "LgIIJOvD6fjL"
      }
    },
    {
      "cell_type": "markdown",
      "source": [
        "### Load the file country-income.csv which includes numerical and categorical features.Perform data cleaning to replace any NaN values with the mean value of that particular feature. Then replace any categorical features with numerical features. Display the resulting dataset. You can use the sklearn.impute and sklearn.preprocessing packages to assist you. Include the code in your report.\n",
        "\n",
        "---\n",
        "\n"
      ],
      "metadata": {
        "id": "O9V2KK8sQ3y-"
      }
    },
    {
      "cell_type": "markdown",
      "source": [
        "* In order to perform data cleaning, firstly load the dataset 'country-income.csv' in pandas dataframe, including required libraries.\n",
        "\n"
      ],
      "metadata": {
        "id": "olwvf-5mVRLL"
      }
    },
    {
      "cell_type": "code",
      "source": [
        "#Including required python libraries\n",
        "import pandas as pd\n",
        "import numpy as np\n",
        "from sklearn.preprocessing import LabelEncoder\n",
        "from sklearn.impute import SimpleImputer\n",
        "\n",
        "#Loading dataset from CSV file\n",
        "df = pd.read_csv('country-income.csv')\n",
        "print(df)"
      ],
      "metadata": {
        "colab": {
          "base_uri": "https://localhost:8080/"
        },
        "collapsed": true,
        "id": "9pmnlSbj6eNX",
        "outputId": "c44383e6-b052-4e10-baaa-bba2f9521b1a"
      },
      "execution_count": null,
      "outputs": [
        {
          "output_type": "stream",
          "name": "stdout",
          "text": [
            "   Region   Age   Income Online Shopper\n",
            "0   India  49.0  86400.0             No\n",
            "1  Brazil  32.0  57600.0            Yes\n",
            "2     USA  35.0  64800.0             No\n",
            "3  Brazil  43.0  73200.0             No\n",
            "4     USA  45.0      NaN            Yes\n",
            "5   India  40.0  69600.0            Yes\n",
            "6  Brazil   NaN  62400.0             No\n",
            "7   India  53.0  94800.0            Yes\n",
            "8     USA  55.0  99600.0             No\n",
            "9   India  42.0  80400.0            Yes\n"
          ]
        }
      ]
    },
    {
      "cell_type": "markdown",
      "source": [
        "* **Data Cleaning**\n",
        "1. Missing Values - To fill blank/NaN values, SimpleImputer() function can be used with the strategy of mean as expected in the question objective."
      ],
      "metadata": {
        "id": "xnZoOxq6XHYm"
      }
    },
    {
      "cell_type": "code",
      "source": [
        "#In order to fill the missing values, using SimpleImputer() library function to Age and Income columns\n",
        "df[['Age', 'Income']] = SimpleImputer(strategy='mean').fit_transform(df[['Age', 'Income']])\n",
        "\n",
        "#Checking the updated DataFrame\n",
        "print(df)"
      ],
      "metadata": {
        "colab": {
          "base_uri": "https://localhost:8080/"
        },
        "collapsed": true,
        "id": "BMh4zHThUArF",
        "outputId": "948ca2ef-a1b2-4d19-e5c6-d2920066ed0e"
      },
      "execution_count": null,
      "outputs": [
        {
          "output_type": "stream",
          "name": "stdout",
          "text": [
            "   Region        Age        Income Online Shopper\n",
            "0   India  49.000000  86400.000000             No\n",
            "1  Brazil  32.000000  57600.000000            Yes\n",
            "2     USA  35.000000  64800.000000             No\n",
            "3  Brazil  43.000000  73200.000000             No\n",
            "4     USA  45.000000  76533.333333            Yes\n",
            "5   India  40.000000  69600.000000            Yes\n",
            "6  Brazil  43.777778  62400.000000             No\n",
            "7   India  53.000000  94800.000000            Yes\n",
            "8     USA  55.000000  99600.000000             No\n",
            "9   India  42.000000  80400.000000            Yes\n"
          ]
        }
      ]
    },
    {
      "cell_type": "markdown",
      "source": [
        "2. **Replacing Categorical Features -**\n",
        ">\n",
        "After analysing the dataset, I know that 'Region' and 'Online Shopper' are the two categorical features.\n",
        ">\n",
        "Using library function LabelEncoder(), I will replace the categorical features value in numerical features."
      ],
      "metadata": {
        "id": "wuQiKJZuZarF"
      }
    },
    {
      "cell_type": "code",
      "source": [
        "#Creating variable for label encoder\n",
        "Replace = LabelEncoder()\n",
        "\n",
        "#Replace categorical columns to numerical\n",
        "df['Region'] = Replace.fit_transform(df['Region'])\n",
        "df['Online Shopper'] = Replace.fit_transform(df['Online Shopper'])\n",
        "\n",
        "#Checking the updated DataFrame\n",
        "print(df)"
      ],
      "metadata": {
        "colab": {
          "base_uri": "https://localhost:8080/"
        },
        "id": "K_A0tSVpUIpi",
        "outputId": "f348891c-b984-4923-8925-204497ac583f"
      },
      "execution_count": null,
      "outputs": [
        {
          "output_type": "stream",
          "name": "stdout",
          "text": [
            "   Region        Age        Income  Online Shopper\n",
            "0       1  49.000000  86400.000000               0\n",
            "1       0  32.000000  57600.000000               1\n",
            "2       2  35.000000  64800.000000               0\n",
            "3       0  43.000000  73200.000000               0\n",
            "4       2  45.000000  76533.333333               1\n",
            "5       1  40.000000  69600.000000               1\n",
            "6       0  43.777778  62400.000000               0\n",
            "7       1  53.000000  94800.000000               1\n",
            "8       2  55.000000  99600.000000               0\n",
            "9       1  42.000000  80400.000000               1\n"
          ]
        }
      ]
    },
    {
      "cell_type": "markdown",
      "source": [
        "## Question 4"
      ],
      "metadata": {
        "id": "stq0SgETjXjv"
      }
    },
    {
      "cell_type": "markdown",
      "source": [
        "### Load the file shoesize.csv, which includes measurements of shoe size and height (in inches) for 408 subjects, both female and male. Plot the scatterplots of shoe size versus height for female and male subjects separately. Compute the Pearson's correlation coefficient of shoe size versus height for female and male subjects separately. What can be inferred by the scatterplots and computed correlation coefficients? Include the code in your report.\n",
        "\n",
        "---\n",
        "\n"
      ],
      "metadata": {
        "id": "jr-aZ2CCjeIb"
      }
    },
    {
      "cell_type": "code",
      "source": [
        "#Including required python libraries\n",
        "import pandas as pd\n",
        "import numpy as np\n",
        "import matplotlib.pyplot as plt\n",
        "\n",
        "#Loading dataset from CSV file\n",
        "data = pd.read_csv('shoesize.csv')\n",
        "print(data)"
      ],
      "metadata": {
        "colab": {
          "base_uri": "https://localhost:8080/"
        },
        "id": "y5HANa_okL5D",
        "outputId": "561156ef-d54c-4ed9-d799-aee0120718d7"
      },
      "execution_count": null,
      "outputs": [
        {
          "output_type": "stream",
          "name": "stdout",
          "text": [
            "     Index Gender  Size  Height\n",
            "0        1      F   5.5    60.0\n",
            "1        2      F   6.0    60.0\n",
            "2        3      F   7.0    60.0\n",
            "3        4      F   8.0    60.0\n",
            "4        5      F   8.0    60.0\n",
            "..     ...    ...   ...     ...\n",
            "403    404      M  13.0    78.0\n",
            "404    405      M  13.0    78.0\n",
            "405    406      M  14.0    78.0\n",
            "406    407      M  15.0    80.0\n",
            "407    408      M  15.0    81.0\n",
            "\n",
            "[408 rows x 4 columns]\n"
          ]
        }
      ]
    },
    {
      "cell_type": "code",
      "source": [
        "# Separate data by gender\n",
        "female_data = data[data['Gender'] == 'F']\n",
        "male_data = data[data['Gender'] == 'M']\n",
        "\n",
        "# Plot scatterplots\n",
        "plt.figure(figsize=(12, 6))\n",
        "\n",
        "# Female scatter plot\n",
        "plt.subplot(1, 2, 1)\n",
        "plt.scatter(female_data['Height'], female_data['Size'], color='pink', label='Female')\n",
        "plt.xlabel('Height (inches)')\n",
        "plt.ylabel('Shoe Size')\n",
        "plt.title('Female: Shoe Size vs. Height')\n",
        "plt.legend()\n",
        "\n",
        "# Male scatter plot\n",
        "plt.subplot(1, 2, 2)\n",
        "plt.scatter(male_data['Height'], male_data['Size'], color='blue', label='Male')\n",
        "plt.xlabel('Height (inches)')\n",
        "plt.ylabel('Shoe Size')\n",
        "plt.title('Male: Shoe Size vs. Height')\n",
        "plt.legend()\n",
        "\n",
        "plt.tight_layout()\n",
        "plt.show()"
      ],
      "metadata": {
        "colab": {
          "base_uri": "https://localhost:8080/",
          "height": 569
        },
        "id": "4CWzx5kZliBU",
        "outputId": "273f8b32-4337-43d9-8a5a-2371324685d5"
      },
      "execution_count": null,
      "outputs": [
        {
          "output_type": "display_data",
          "data": {
            "text/plain": [
              "<Figure size 1200x600 with 2 Axes>"
            ],
            "image/png": "[encoded data removed]"
          },
          "metadata": {}
        }
      ]
    },
    {
      "cell_type": "code",
      "source": [
        "# Compute Pearson's correlation coefficient for each gender\n",
        "female_corr = female_data['Size'].corr(female_data['Height'])\n",
        "male_corr = male_data['Size'].corr(male_data['Height'])\n",
        "\n",
        "print(f\"Pearson's correlation coefficient (Female): {female_corr}\")\n",
        "print(f\"Pearson's correlation coefficient (Male): {male_corr}\")"
      ],
      "metadata": {
        "colab": {
          "base_uri": "https://localhost:8080/"
        },
        "id": "g-t1c0QJmbo0",
        "outputId": "4f06d950-10f3-46ec-8b64-96b97769788c"
      },
      "execution_count": null,
      "outputs": [
        {
          "output_type": "stream",
          "name": "stdout",
          "text": [
            "Pearson's correlation coefficient (Female): 0.7078119417143995\n",
            "Pearson's correlation coefficient (Male): 0.7677093547300968\n"
          ]
        }
      ]
    },
    {
      "cell_type": "markdown",
      "source": [
        "**Scatterplots:**\n",
        "**Relationship Visualization:** The scatterplots allow you to visualize any linear relationship between height and shoe size for each gender. If the points generally trend upwards from left to right, this suggests a positive relationship, meaning that taller individuals tend to have larger shoe sizes.\n",
        "**Strength of the Relationship:** A tighter clustering of points along an upward trend indicates a stronger positive relationship. If the points are more spread out, it suggests a weaker association.\n",
        "Gender Differences: By comparing the two scatterplots, you can visually assess if there is a notable difference between genders in the height and shoe size relationship.\n",
        "**Pearson’s Correlation Coefficients:**\n",
        "Positive or Negative Correlation: If the correlation coefficient is positive (closer to +1), it indicates that shoe size and height tend to increase together, confirming a positive linear relationship. A negative value (closer to -1) would imply an inverse relationship, which is uncommon for shoe size and height.\n",
        "\n",
        "**Strength of Correlation:**\n",
        "\n",
        "A coefficient close to +1 (e.g., > 0.7) suggests a strong positive linear relationship.\n",
        "A coefficient between 0.3 and 0.7 indicates a moderate relationship.\n",
        "A coefficient closer to 0 suggests a weak or no linear relationship.\n",
        "Gender-Based Differences: Comparing the correlation values for males and females can reveal if height and shoe size are more strongly related in one gender than the other.\n",
        "\n",
        "**Possible Insights:**\n",
        "If the correlation is strong and positive in both genders, height is a reliable predictor of shoe size.\n",
        "If there is a large difference in correlation strength between genders, it may imply that one gender has a more consistent relationship between height and shoe size."
      ],
      "metadata": {
        "id": "5HFeLT0anBmL"
      }
    },
    {
      "cell_type": "markdown",
      "source": [
        "## Question 5\n",
        "\n",
        "---\n",
        "\n"
      ],
      "metadata": {
        "id": "91DdDafl6XS-"
      }
    },
    {
      "cell_type": "code",
      "source": [
        "import pandas as pd\n",
        "import matplotlib.pyplot as plt\n",
        "from sklearn.decomposition import PCA\n",
        "from sklearn.preprocessing import StandardScaler\n",
        "from sklearn.datasets import load_wine\n",
        "\n",
        "# Load the wine dataset\n",
        "wine = load_wine()\n",
        "X = wine.data\n",
        "y = wine.target\n",
        "\n",
        "# Convert to DataFrame for easier manipulation\n",
        "wine_df = pd.DataFrame(data=X, columns=wine.feature_names)\n",
        "wine_df['target'] = y\n",
        "\n",
        "# Standardizing the features\n",
        "scaler = StandardScaler()\n",
        "X_scaled = scaler.fit_transform(X)\n",
        "\n",
        "# Apply PCA\n",
        "pca = PCA(n_components=2)\n",
        "X_pca = pca.fit_transform(X_scaled)\n",
        "\n",
        "# Create a DataFrame with the PCA results\n",
        "pca_df = pd.DataFrame(data=X_pca, columns=['Principal Component 1', 'Principal Component 2'])\n",
        "pca_df['target'] = y\n",
        "\n",
        "# Explained variance\n",
        "explained_variance = pca.explained_variance_ratio_\n",
        "print(f'Explained variance by component: {explained_variance}')\n",
        "\n",
        "# Visualize the PCA results\n",
        "plt.figure(figsize=(10, 6))\n",
        "scatter = plt.scatter(pca_df['Principal Component 1'], pca_df['Principal Component 2'],\n",
        "                      c=pca_df['target'], cmap='viridis', edgecolor='k', s=100)\n",
        "plt.title('PCA of Wine Dataset')\n",
        "plt.xlabel('Principal Component 1')\n",
        "plt.ylabel('Principal Component 2')\n",
        "\n",
        "# Create a legend\n",
        "plt.legend(*scatter.legend_elements(), title=\"Classes\")\n",
        "plt.grid()\n",
        "plt.show()"
      ],
      "metadata": {
        "colab": {
          "base_uri": "https://localhost:8080/",
          "height": 581
        },
        "id": "4aRZT8-Fw1TQ",
        "outputId": "4d4e667c-213c-47e1-cd96-dcef5e96b34d"
      },
      "execution_count": null,
      "outputs": [
        {
          "output_type": "stream",
          "name": "stdout",
          "text": [
            "Explained variance by component: [0.36198848 0.1920749 ]\n"
          ]
        },
        {
          "output_type": "display_data",
          "data": {
            "text/plain": [
              "<Figure size 1000x600 with 1 Axes>"
            ],
            "image/png": "[encoded data removed]"
          },
          "metadata": {}
        }
      ]
    },
    {
      "cell_type": "markdown",
      "source": [
        "## Question 7"
      ],
      "metadata": {
        "id": "UGkU7S_dnX5R"
      }
    },
    {
      "cell_type": "markdown",
      "source": [
        "### Use the file country-income.csv and perform the following:"
      ],
      "metadata": {
        "id": "ub76UTOYndEy"
      }
    },
    {
      "cell_type": "markdown",
      "source": [
        "###1.   Load the CSV file using Cubes, create a JSON file for the data cube model, and create a data cube for the data. Use as dimensions the region, age, and online shopper fields. Use as measure the income. Define aggregate functions in the data cube model for the total, average, minimum, and maximum income. Include the code in your report (and show the files created). /usr/local/lib/python3.10/dist-packages/cubes/datastructures.py"
      ],
      "metadata": {
        "id": "8kpcfncvngF5"
      }
    },
    {
      "cell_type": "code",
      "source": [
        "# If you are using Google Colab, you would need to run the below line to install Cubes.\n",
        "# You can comment the below line if you are running a local python installation with Cubes installed.\n",
        "!pip install --upgrade cubes\n",
        "!pip install sqlalchemy==1.3.20\n",
        "from sqlalchemy import create_engine"
      ],
      "metadata": {
        "id": "AQMQJRPCpizD",
        "collapsed": true,
        "colab": {
          "base_uri": "https://localhost:8080/"
        },
        "outputId": "5e3f35ba-4c58-4c74-b5fd-649dbbbbb0ef"
      },
      "execution_count": 6,
      "outputs": [
        {
          "output_type": "stream",
          "name": "stdout",
          "text": [
            "Requirement already satisfied: cubes in /usr/local/lib/python3.10/dist-packages (1.1)\n",
            "Requirement already satisfied: python-dateutil in /usr/local/lib/python3.10/dist-packages (from cubes) (2.8.2)\n",
            "Requirement already satisfied: jsonschema in /usr/local/lib/python3.10/dist-packages (from cubes) (4.23.0)\n",
            "Requirement already satisfied: expressions>=0.2.3 in /usr/local/lib/python3.10/dist-packages (from cubes) (0.2.3)\n",
            "Requirement already satisfied: grako>=3.9.3 in /usr/local/lib/python3.10/dist-packages (from expressions>=0.2.3->cubes) (3.99.9)\n",
            "Requirement already satisfied: attrs>=22.2.0 in /usr/local/lib/python3.10/dist-packages (from jsonschema->cubes) (24.2.0)\n",
            "Requirement already satisfied: jsonschema-specifications>=2023.03.6 in /usr/local/lib/python3.10/dist-packages (from jsonschema->cubes) (2024.10.1)\n",
            "Requirement already satisfied: referencing>=0.28.4 in /usr/local/lib/python3.10/dist-packages (from jsonschema->cubes) (0.35.1)\n",
            "Requirement already satisfied: rpds-py>=0.7.1 in /usr/local/lib/python3.10/dist-packages (from jsonschema->cubes) (0.20.0)\n",
            "Requirement already satisfied: six>=1.5 in /usr/local/lib/python3.10/dist-packages (from python-dateutil->cubes) (1.16.0)\n",
            "Requirement already satisfied: sqlalchemy==1.3.20 in /usr/local/lib/python3.10/dist-packages (1.3.20)\n"
          ]
        }
      ]
    },
    {
      "cell_type": "code",
      "source": [
        "from cubes.tutorial.sql import create_table_from_csv"
      ],
      "metadata": {
        "id": "xIsRNsw5yEHd"
      },
      "execution_count": 46,
      "outputs": []
    },
    {
      "cell_type": "code",
      "source": [
        "engine = create_engine('sqlite:///data.sqlite')\n",
        "create_table_from_csv(engine,\n",
        "                      \"country-income.csv\",\n",
        "                      table_name=\"country_income\",\n",
        "                      fields=[\n",
        "                          (\"region\", \"string\"),\n",
        "                          (\"age\", \"integer\"),\n",
        "                          (\"income\", \"integer\"),\n",
        "                          (\"online_shopper\", \"boolean\")],\n",
        "                      create_id=True\n",
        "                     )"
      ],
      "metadata": {
        "id": "2FlYPFYlyIlW"
      },
      "execution_count": 47,
      "outputs": []
    },
    {
      "cell_type": "code",
      "source": [
        "from cubes import Workspace\n",
        "\n",
        "workspace = Workspace()\n",
        "workspace.register_default_store(\"sql\", url=\"sqlite:///data.sqlite\")"
      ],
      "metadata": {
        "id": "QsXmTIyMyttD"
      },
      "execution_count": 48,
      "outputs": []
    },
    {
      "cell_type": "code",
      "source": [
        "workspace.import_model(\"Country_Income_Model.json\")"
      ],
      "metadata": {
        "id": "EI_wvrL1yxxe"
      },
      "execution_count": 53,
      "outputs": []
    },
    {
      "cell_type": "code",
      "source": [
        "cube = workspace.cube(\"Country_Income\")"
      ],
      "metadata": {
        "id": "sDnc0ngpzEV7"
      },
      "execution_count": 54,
      "outputs": []
    },
    {
      "cell_type": "code",
      "source": [
        "browser = workspace.browser(cube)"
      ],
      "metadata": {
        "id": "sgdocJ1S3gV-"
      },
      "execution_count": 51,
      "outputs": []
    },
    {
      "cell_type": "code",
      "source": [
        "result = browser.aggregate()\n",
        "print(result.summary.keys())\n",
        "print(result.summary)\n",
        "print(result)\n",
        "print(result.summary[\"income_total\"])\n",
        "print(result.summary[\"income_average\"])\n",
        "print(result.summary[\"income_minimum\"])\n",
        "print(result.summary[\"income_maximum\"])"
      ],
      "metadata": {
        "colab": {
          "base_uri": "https://localhost:8080/"
        },
        "id": "d8kdmGe33jdU",
        "outputId": "8ae4aa5a-ca70-4b05-ecbd-fb82e9856c24"
      },
      "execution_count": 52,
      "outputs": [
        {
          "output_type": "stream",
          "name": "stdout",
          "text": [
            "dict_keys(['income_total', 'income_average', 'income_minimum', 'income_maximum'])\n",
            "{'income_total': 688800, 'income_average': 68880.0, 'income_minimum': 0, 'income_maximum': 99600}\n",
            "<cubes.browser.AggregationResult object at 0x7bef8eb4f040>\n",
            "688800\n",
            "68880.0\n",
            "0\n",
            "99600\n"
          ]
        }
      ]
    },
    {
      "cell_type": "code",
      "source": [],
      "metadata": {
        "id": "WtswhVax_iWn"
      },
      "execution_count": null,
      "outputs": []
    },
    {
      "cell_type": "code",
      "source": [
        "# i) Aggregate results for the whole data cube\n",
        "overall_result = browser.aggregate()\n",
        "print(\"Overall Result:\")\n",
        "print(overall_result.summary)"
      ],
      "metadata": {
        "colab": {
          "base_uri": "https://localhost:8080/"
        },
        "id": "wds2ancD_h5u",
        "outputId": "8b0fecab-58b0-40a0-f3ea-8cdbecfbb8d1"
      },
      "execution_count": 56,
      "outputs": [
        {
          "output_type": "stream",
          "name": "stdout",
          "text": [
            "Overall Result:\n",
            "{'income_total': 688800, 'income_average': 68880.0, 'income_minimum': 0, 'income_maximum': 99600}\n"
          ]
        }
      ]
    },
    {
      "cell_type": "code",
      "source": [
        "# ii) Aggregate results per region\n",
        "result_per_region = browser.aggregate(drilldown=[\"region\"])\n",
        "print(\"Aggregate Results Per Region:\")\n",
        "for row in result_per_region:\n",
        "    print(row)\n"
      ],
      "metadata": {
        "colab": {
          "base_uri": "https://localhost:8080/"
        },
        "id": "JFisBhcq3iUg",
        "outputId": "28320720-d804-42c2-ba4a-6204c6ceaedd"
      },
      "execution_count": 57,
      "outputs": [
        {
          "output_type": "stream",
          "name": "stdout",
          "text": [
            "Aggregate Results Per Region:\n",
            "{'region': 'Brazil', 'income_total': 193200, 'income_average': 64400.0, 'income_minimum': 57600, 'income_maximum': 73200}\n",
            "{'region': 'India', 'income_total': 331200, 'income_average': 82800.0, 'income_minimum': 69600, 'income_maximum': 94800}\n",
            "{'region': 'USA', 'income_total': 164400, 'income_average': 54800.0, 'income_minimum': 0, 'income_maximum': 99600}\n"
          ]
        }
      ]
    },
    {
      "cell_type": "code",
      "source": [
        "# iii) Aggregate results per online shopping activity\n",
        "result_per_online_shopper = browser.aggregate(drilldown=[\"online_shopper\"])\n",
        "print(\"Aggregate Results Per Online Shopping Activity:\")\n",
        "for row in result_per_online_shopper:\n",
        "    print(row)\n"
      ],
      "metadata": {
        "colab": {
          "base_uri": "https://localhost:8080/"
        },
        "id": "I5-D5542A-YW",
        "outputId": "622a35e0-88d4-481b-faa4-5e401f98c43a"
      },
      "execution_count": 58,
      "outputs": [
        {
          "output_type": "stream",
          "name": "stdout",
          "text": [
            "Aggregate Results Per Online Shopping Activity:\n",
            "{'online_shopper': 'No', 'income_total': 386400, 'income_average': 77280.0, 'income_minimum': 62400, 'income_maximum': 99600}\n",
            "{'online_shopper': 'Yes', 'income_total': 302400, 'income_average': 60480.0, 'income_minimum': 0, 'income_maximum': 94800}\n"
          ]
        }
      ]
    },
    {
      "cell_type": "code",
      "source": [
        "# iv) Aggregate results for all people aged between 40 and 50\n",
        "age_filter = {\n",
        "    \"age\": {\n",
        "        \"operator\": \"between\",\n",
        "        \"values\": [40, 50]\n",
        "    }\n",
        "}\n",
        "result_aged_40_to_50 = browser.aggregate(filters=age_filter)\n",
        "print(\"\\nAggregate Results for Ages Between 40 and 50:\")\n",
        "print(result_aged_40_to_50.summary)\n",
        "print(\"Cells for Ages Between 40 and 50:\")\n",
        "for cell in result_aged_40_to_50.cells:\n",
        "    print(cell)"
      ],
      "metadata": {
        "colab": {
          "base_uri": "https://localhost:8080/"
        },
        "id": "hl-3japkBCAL",
        "outputId": "66229025-1026-4ecc-8a62-524454737387"
      },
      "execution_count": 75,
      "outputs": [
        {
          "output_type": "stream",
          "name": "stdout",
          "text": [
            "\n",
            "Aggregate Results for Ages Between 40 and 50:\n",
            "{'income_total': 688800, 'income_average': 68880.0, 'income_minimum': 0, 'income_maximum': 99600}\n",
            "Cells for Ages Between 40 and 50:\n"
          ]
        }
      ]
    },
    {
      "cell_type": "code",
      "source": [],
      "metadata": {
        "id": "k0WiQqHlBEGn"
      },
      "execution_count": null,
      "outputs": []
    },
    {
      "cell_type": "code",
      "source": [],
      "metadata": {
        "id": "80DqA2ql3h5L"
      },
      "execution_count": null,
      "outputs": []
    },
    {
      "cell_type": "code",
      "source": [
        "import pandas as pd\n",
        "\n",
        "# Load the CSV to check the raw data\n",
        "data = pd.read_csv(\"country-income.csv\")\n",
        "print(\"Raw Data:\")\n",
        "print(data)\n"
      ],
      "metadata": {
        "colab": {
          "base_uri": "https://localhost:8080/"
        },
        "id": "MRsfwWeTEEye",
        "outputId": "4669add9-56cb-4ef0-c573-3b3a79757cb4"
      },
      "execution_count": 68,
      "outputs": [
        {
          "output_type": "stream",
          "name": "stdout",
          "text": [
            "Raw Data:\n",
            "   Region  Age  Income Online Shopper\n",
            "0   India   49   86400             No\n",
            "1  Brazil   32   57600            Yes\n",
            "2     USA   35   64800             No\n",
            "3  Brazil   43   73200             No\n",
            "4     USA   45       0            Yes\n",
            "5   India   40   69600            Yes\n",
            "6  Brazil    0   62400             No\n",
            "7   India   53   94800            Yes\n",
            "8     USA   55   99600             No\n",
            "9   India   42   80400            Yes\n"
          ]
        }
      ]
    },
    {
      "cell_type": "code",
      "source": [
        "print(\"Data Types:\")\n",
        "print(data.dtypes)"
      ],
      "metadata": {
        "colab": {
          "base_uri": "https://localhost:8080/"
        },
        "id": "CkUK4vzqEHk7",
        "outputId": "9e6c2973-adaf-44a5-bf65-204b77ffa882"
      },
      "execution_count": 69,
      "outputs": [
        {
          "output_type": "stream",
          "name": "stdout",
          "text": [
            "Data Types:\n",
            "Region            object\n",
            "Age                int64\n",
            "Income             int64\n",
            "Online Shopper    object\n",
            "dtype: object\n"
          ]
        }
      ]
    },
    {
      "cell_type": "code",
      "source": [
        "# Filter data for ages between 40 and 50\n",
        "filtered_data = data[(data['Age'] >= 40) & (data['Age'] <= 50)]\n",
        "\n",
        "# Calculate manual aggregates\n",
        "total_income = filtered_data['Income'].sum()\n",
        "average_income = filtered_data['Income'].mean()\n",
        "minimum_income = filtered_data['Income'].min()\n",
        "maximum_income = filtered_data['Income'].max()\n",
        "\n",
        "print(\"\\nManual Aggregates for Ages Between 40 and 50:\")\n",
        "print(f\"Total Income: {total_income}\")\n",
        "print(f\"Average Income: {average_income}\")\n",
        "print(f\"Minimum Income: {minimum_income}\")\n",
        "print(f\"Maximum Income: {maximum_income}\")\n"
      ],
      "metadata": {
        "colab": {
          "base_uri": "https://localhost:8080/"
        },
        "id": "5v4vsYXiEVN8",
        "outputId": "0b8f86f0-92f2-41bc-c675-bbb99b583653"
      },
      "execution_count": 71,
      "outputs": [
        {
          "output_type": "stream",
          "name": "stdout",
          "text": [
            "\n",
            "Manual Aggregates for Ages Between 40 and 50:\n",
            "Total Income: 309600\n",
            "Average Income: 61920.0\n",
            "Minimum Income: 0\n",
            "Maximum Income: 86400\n"
          ]
        }
      ]
    },
    {
      "cell_type": "code",
      "source": [
        "# i) Aggregate results for the whole data cube\n",
        "overall_result = browser.aggregate()\n",
        "print(\"Overall Result:\", overall_result.to_dict())\n",
        "\n",
        "# ii) Aggregate results per region\n",
        "result_per_region = browser.aggregate(drilldown=[\"region\"])\n",
        "print(\"\\nAggregate Results Per Region:\", result_per_region.to_dict())\n",
        "\n",
        "# iii) Aggregate results per online shopping activity\n",
        "result_per_online_shopper = browser.aggregate(drilldown=[\"online_shopper\"])\n",
        "print(\"\\nAggregate Results Per Online Shopping Activity:\", result_per_online_shopper.to_dict())\n",
        "\n",
        "# iv) Aggregate results for all people aged between 40 and 50\n",
        "result_aged_40_to_50 = browser.aggregate(filters=age_filter)\n",
        "print(\"\\nAggregate Results for Ages Between 40 and 50:\", result_aged_40_to_50.to_dict())\n"
      ],
      "metadata": {
        "colab": {
          "base_uri": "https://localhost:8080/"
        },
        "id": "M2W8uZd8FYyR",
        "outputId": "66138d4b-4843-4e7a-b801-14bd951d3adc"
      },
      "execution_count": 72,
      "outputs": [
        {
          "output_type": "stream",
          "name": "stdout",
          "text": [
            "Overall Result: {'summary': {'income_total': 688800, 'income_average': 68880.0, 'income_minimum': 0, 'income_maximum': 99600}, 'remainder': {}, 'cells': [], 'aggregates': ['income_total', 'income_average', 'income_minimum', 'income_maximum'], 'cell': [], 'attributes': [], 'has_split': False}\n",
            "\n",
            "Aggregate Results Per Region: {'summary': {'income_total': 688800, 'income_average': 68880.0, 'income_minimum': 0, 'income_maximum': 99600}, 'remainder': {}, 'cells': <cubes.sql.browser.ResultIterator object at 0x7bef828d7700>, 'total_cell_count': 3, 'aggregates': ['income_total', 'income_average', 'income_minimum', 'income_maximum'], 'cell': [], 'levels': {'region': ['region']}, 'attributes': ['region'], 'has_split': False}\n",
            "\n",
            "Aggregate Results Per Online Shopping Activity: {'summary': {'income_total': 688800, 'income_average': 68880.0, 'income_minimum': 0, 'income_maximum': 99600}, 'remainder': {}, 'cells': <cubes.sql.browser.ResultIterator object at 0x7bef828d59f0>, 'total_cell_count': 2, 'aggregates': ['income_total', 'income_average', 'income_minimum', 'income_maximum'], 'cell': [], 'levels': {'online_shopper': ['online_shopper']}, 'attributes': ['online_shopper'], 'has_split': False}\n",
            "\n",
            "Aggregate Results for Ages Between 40 and 50: {'summary': {'income_total': 688800, 'income_average': 68880.0, 'income_minimum': 0, 'income_maximum': 99600}, 'remainder': {}, 'cells': [], 'aggregates': ['income_total', 'income_average', 'income_minimum', 'income_maximum'], 'cell': [], 'attributes': [], 'has_split': False}\n"
          ]
        }
      ]
    },
    {
      "cell_type": "code",
      "source": [
        "# Checking the region aggregation cells\n",
        "print(\"\\nAggregate Results Per Region Cells:\")\n",
        "region_cells = result_per_region['cells']\n",
        "for cell in region_cells:\n",
        "    print(cell)\n",
        "\n",
        "# Checking the online shopper aggregation cells\n",
        "print(\"\\nAggregate Results Per Online Shopping Activity Cells:\")\n",
        "online_shopper_cells = result_per_online_shopper['cells']\n",
        "for cell in online_shopper_cells:\n",
        "    print(cell)\n"
      ],
      "metadata": {
        "colab": {
          "base_uri": "https://localhost:8080/",
          "height": 245
        },
        "id": "b-3BPz58F195",
        "outputId": "68163435-e24e-401f-f6cb-605e66664dca"
      },
      "execution_count": 73,
      "outputs": [
        {
          "output_type": "stream",
          "name": "stdout",
          "text": [
            "\n",
            "Aggregate Results Per Region Cells:\n"
          ]
        },
        {
          "output_type": "error",
          "ename": "TypeError",
          "evalue": "'AggregationResult' object is not subscriptable",
          "traceback": [
            "\u001b[0;31m---------------------------------------------------------------------------\u001b[0m",
            "\u001b[0;31mTypeError\u001b[0m                                 Traceback (most recent call last)",
            "\u001b[0;32m<ipython-input-73-e39da35c339f>\u001b[0m in \u001b[0;36m<cell line: 3>\u001b[0;34m()\u001b[0m\n\u001b[1;32m      1\u001b[0m \u001b[0;31m# Checking the region aggregation cells\u001b[0m\u001b[0;34m\u001b[0m\u001b[0;34m\u001b[0m\u001b[0m\n\u001b[1;32m      2\u001b[0m \u001b[0mprint\u001b[0m\u001b[0;34m(\u001b[0m\u001b[0;34m\"\\nAggregate Results Per Region Cells:\"\u001b[0m\u001b[0;34m)\u001b[0m\u001b[0;34m\u001b[0m\u001b[0;34m\u001b[0m\u001b[0m\n\u001b[0;32m----> 3\u001b[0;31m \u001b[0mregion_cells\u001b[0m \u001b[0;34m=\u001b[0m \u001b[0mresult_per_region\u001b[0m\u001b[0;34m[\u001b[0m\u001b[0;34m'cells'\u001b[0m\u001b[0;34m]\u001b[0m\u001b[0;34m\u001b[0m\u001b[0;34m\u001b[0m\u001b[0m\n\u001b[0m\u001b[1;32m      4\u001b[0m \u001b[0;32mfor\u001b[0m \u001b[0mcell\u001b[0m \u001b[0;32min\u001b[0m \u001b[0mregion_cells\u001b[0m\u001b[0;34m:\u001b[0m\u001b[0;34m\u001b[0m\u001b[0;34m\u001b[0m\u001b[0m\n\u001b[1;32m      5\u001b[0m     \u001b[0mprint\u001b[0m\u001b[0;34m(\u001b[0m\u001b[0mcell\u001b[0m\u001b[0;34m)\u001b[0m\u001b[0;34m\u001b[0m\u001b[0;34m\u001b[0m\u001b[0m\n",
            "\u001b[0;31mTypeError\u001b[0m: 'AggregationResult' object is not subscriptable"
          ]
        }
      ]
    }
  ]
}